{
    "metadata": {
        "kernelspec": {
            "name": "SQL",
            "display_name": "SQL",
            "language": "sql"
        },
        "language_info": {
            "name": "sql",
            "version": ""
        }
    },
    "nbformat_minor": 2,
    "nbformat": 4,
    "cells": [
        {
            "cell_type": "code",
            "source": [
                "/*\r\n",
                "===============================================================================\r\n",
                "02. Dimensions Exploration\r\n",
                "===============================================================================\r\n",
                "Purpose:\r\n",
                "    - To explore the structure of dimension tables.\r\n",
                "\t- To identify unique values (or categories) in each dimension.\r\n",
                "\t- To recognize how data might be grouped or segmented, which is useful for later analysis.\r\n",
                "\t\r\n",
                "SQL Functions Used:\r\n",
                "    - DISTINCT\r\n",
                "    - ORDER BY\r\n",
                "===============================================================================\r\n",
                "*/"
            ],
            "metadata": {
                "azdata_cell_guid": "c4e72d6d-b2c9-44ab-a9fe-4827aa6a2f60",
                "language": "sql"
            },
            "outputs": [],
            "execution_count": null
        },
        {
            "cell_type": "code",
            "source": [
                "-- Retrieve a list of unique countries from which customers originate\r\n",
                "SELECT \r\n",
                "      DISTINCT(country)\r\n",
                "FROM gold.dim_customers;"
            ],
            "metadata": {
                "azdata_cell_guid": "a5a8d311-085b-4c4c-a46d-dd56f184aac2",
                "language": "sql"
            },
            "outputs": [
                {
                    "output_type": "display_data",
                    "data": {
                        "text/html": "(7 rows affected)"
                    },
                    "metadata": {}
                },
                {
                    "output_type": "display_data",
                    "data": {
                        "text/html": "Total execution time: 00:00:01.528"
                    },
                    "metadata": {}
                },
                {
                    "output_type": "execute_result",
                    "metadata": {},
                    "execution_count": 2,
                    "data": {
                        "application/vnd.dataresource+json": {
                            "schema": {
                                "fields": [
                                    {
                                        "name": "country"
                                    }
                                ]
                            },
                            "data": [
                                {
                                    "country": "n/a"
                                },
                                {
                                    "country": "Germany"
                                },
                                {
                                    "country": "United States"
                                },
                                {
                                    "country": "Australia"
                                },
                                {
                                    "country": "United Kingdom"
                                },
                                {
                                    "country": "Canada"
                                },
                                {
                                    "country": "France"
                                }
                            ]
                        },
                        "text/html": [
                            "<table>",
                            "<tr><th>country</th></tr>",
                            "<tr><td>n/a</td></tr>",
                            "<tr><td>Germany</td></tr>",
                            "<tr><td>United States</td></tr>",
                            "<tr><td>Australia</td></tr>",
                            "<tr><td>United Kingdom</td></tr>",
                            "<tr><td>Canada</td></tr>",
                            "<tr><td>France</td></tr>",
                            "</table>"
                        ]
                    }
                }
            ],
            "execution_count": 2
        },
        {
            "cell_type": "code",
            "source": [
                "-- Retrieve a list of unique categories\r\n",
                "SELECT \r\n",
                "\t  DISTINCT category\r\n",
                "FROM gold.dim_products"
            ],
            "metadata": {
                "language": "sql",
                "azdata_cell_guid": "d63568f8-b626-47c3-a6fd-4bcc40e95568"
            },
            "outputs": [
                {
                    "output_type": "display_data",
                    "data": {
                        "text/html": "(5 rows affected)"
                    },
                    "metadata": {}
                },
                {
                    "output_type": "display_data",
                    "data": {
                        "text/html": "Total execution time: 00:00:00.508"
                    },
                    "metadata": {}
                },
                {
                    "output_type": "execute_result",
                    "metadata": {},
                    "execution_count": 3,
                    "data": {
                        "application/vnd.dataresource+json": {
                            "schema": {
                                "fields": [
                                    {
                                        "name": "category"
                                    }
                                ]
                            },
                            "data": [
                                {
                                    "category": "NULL"
                                },
                                {
                                    "category": "Accessories"
                                },
                                {
                                    "category": "Bikes"
                                },
                                {
                                    "category": "Clothing"
                                },
                                {
                                    "category": "Components"
                                }
                            ]
                        },
                        "text/html": [
                            "<table>",
                            "<tr><th>category</th></tr>",
                            "<tr><td>NULL</td></tr>",
                            "<tr><td>Accessories</td></tr>",
                            "<tr><td>Bikes</td></tr>",
                            "<tr><td>Clothing</td></tr>",
                            "<tr><td>Components</td></tr>",
                            "</table>"
                        ]
                    }
                }
            ],
            "execution_count": 3
        },
        {
            "cell_type": "code",
            "source": [
                "-- Retrieve a list of unique categories and subcategories\r\n",
                "SELECT \r\n",
                "\t  DISTINCT\r\n",
                "\t          category,\r\n",
                "\t\t\t  subcategory\r\n",
                "FROM gold.dim_products;"
            ],
            "metadata": {
                "language": "sql",
                "azdata_cell_guid": "b64f9a16-6a5e-4a43-95d1-36743df692da"
            },
            "outputs": [
                {
                    "output_type": "display_data",
                    "data": {
                        "text/html": "(37 rows affected)"
                    },
                    "metadata": {}
                },
                {
                    "output_type": "display_data",
                    "data": {
                        "text/html": "Total execution time: 00:00:00.559"
                    },
                    "metadata": {}
                },
                {
                    "output_type": "execute_result",
                    "metadata": {},
                    "execution_count": 4,
                    "data": {
                        "application/vnd.dataresource+json": {
                            "schema": {
                                "fields": [
                                    {
                                        "name": "category"
                                    },
                                    {
                                        "name": "subcategory"
                                    }
                                ]
                            },
                            "data": [
                                {
                                    "category": "NULL",
                                    "subcategory": "NULL"
                                },
                                {
                                    "category": "Accessories",
                                    "subcategory": "Bike Racks"
                                },
                                {
                                    "category": "Accessories",
                                    "subcategory": "Bike Stands"
                                },
                                {
                                    "category": "Accessories",
                                    "subcategory": "Bottles and Cages"
                                },
                                {
                                    "category": "Accessories",
                                    "subcategory": "Cleaners"
                                },
                                {
                                    "category": "Accessories",
                                    "subcategory": "Fenders"
                                },
                                {
                                    "category": "Accessories",
                                    "subcategory": "Helmets"
                                },
                                {
                                    "category": "Accessories",
                                    "subcategory": "Hydration Packs"
                                },
                                {
                                    "category": "Accessories",
                                    "subcategory": "Lights"
                                },
                                {
                                    "category": "Accessories",
                                    "subcategory": "Locks"
                                },
                                {
                                    "category": "Accessories",
                                    "subcategory": "Panniers"
                                },
                                {
                                    "category": "Accessories",
                                    "subcategory": "Pumps"
                                },
                                {
                                    "category": "Accessories",
                                    "subcategory": "Tires and Tubes"
                                },
                                {
                                    "category": "Bikes",
                                    "subcategory": "Mountain Bikes"
                                },
                                {
                                    "category": "Bikes",
                                    "subcategory": "Road Bikes"
                                },
                                {
                                    "category": "Bikes",
                                    "subcategory": "Touring Bikes"
                                },
                                {
                                    "category": "Clothing",
                                    "subcategory": "Bib-Shorts"
                                },
                                {
                                    "category": "Clothing",
                                    "subcategory": "Caps"
                                },
                                {
                                    "category": "Clothing",
                                    "subcategory": "Gloves"
                                },
                                {
                                    "category": "Clothing",
                                    "subcategory": "Jerseys"
                                },
                                {
                                    "category": "Clothing",
                                    "subcategory": "Shorts"
                                },
                                {
                                    "category": "Clothing",
                                    "subcategory": "Socks"
                                },
                                {
                                    "category": "Clothing",
                                    "subcategory": "Tights"
                                },
                                {
                                    "category": "Clothing",
                                    "subcategory": "Vests"
                                },
                                {
                                    "category": "Components",
                                    "subcategory": "Bottom Brackets"
                                },
                                {
                                    "category": "Components",
                                    "subcategory": "Brakes"
                                },
                                {
                                    "category": "Components",
                                    "subcategory": "Chains"
                                },
                                {
                                    "category": "Components",
                                    "subcategory": "Cranksets"
                                },
                                {
                                    "category": "Components",
                                    "subcategory": "Derailleurs"
                                },
                                {
                                    "category": "Components",
                                    "subcategory": "Forks"
                                },
                                {
                                    "category": "Components",
                                    "subcategory": "Handlebars"
                                },
                                {
                                    "category": "Components",
                                    "subcategory": "Headsets"
                                },
                                {
                                    "category": "Components",
                                    "subcategory": "Mountain Frames"
                                },
                                {
                                    "category": "Components",
                                    "subcategory": "Road Frames"
                                },
                                {
                                    "category": "Components",
                                    "subcategory": "Saddles"
                                },
                                {
                                    "category": "Components",
                                    "subcategory": "Touring Frames"
                                },
                                {
                                    "category": "Components",
                                    "subcategory": "Wheels"
                                }
                            ]
                        },
                        "text/html": [
                            "<table>",
                            "<tr><th>category</th><th>subcategory</th></tr>",
                            "<tr><td>NULL</td><td>NULL</td></tr>",
                            "<tr><td>Accessories</td><td>Bike Racks</td></tr>",
                            "<tr><td>Accessories</td><td>Bike Stands</td></tr>",
                            "<tr><td>Accessories</td><td>Bottles and Cages</td></tr>",
                            "<tr><td>Accessories</td><td>Cleaners</td></tr>",
                            "<tr><td>Accessories</td><td>Fenders</td></tr>",
                            "<tr><td>Accessories</td><td>Helmets</td></tr>",
                            "<tr><td>Accessories</td><td>Hydration Packs</td></tr>",
                            "<tr><td>Accessories</td><td>Lights</td></tr>",
                            "<tr><td>Accessories</td><td>Locks</td></tr>",
                            "<tr><td>Accessories</td><td>Panniers</td></tr>",
                            "<tr><td>Accessories</td><td>Pumps</td></tr>",
                            "<tr><td>Accessories</td><td>Tires and Tubes</td></tr>",
                            "<tr><td>Bikes</td><td>Mountain Bikes</td></tr>",
                            "<tr><td>Bikes</td><td>Road Bikes</td></tr>",
                            "<tr><td>Bikes</td><td>Touring Bikes</td></tr>",
                            "<tr><td>Clothing</td><td>Bib-Shorts</td></tr>",
                            "<tr><td>Clothing</td><td>Caps</td></tr>",
                            "<tr><td>Clothing</td><td>Gloves</td></tr>",
                            "<tr><td>Clothing</td><td>Jerseys</td></tr>",
                            "<tr><td>Clothing</td><td>Shorts</td></tr>",
                            "<tr><td>Clothing</td><td>Socks</td></tr>",
                            "<tr><td>Clothing</td><td>Tights</td></tr>",
                            "<tr><td>Clothing</td><td>Vests</td></tr>",
                            "<tr><td>Components</td><td>Bottom Brackets</td></tr>",
                            "<tr><td>Components</td><td>Brakes</td></tr>",
                            "<tr><td>Components</td><td>Chains</td></tr>",
                            "<tr><td>Components</td><td>Cranksets</td></tr>",
                            "<tr><td>Components</td><td>Derailleurs</td></tr>",
                            "<tr><td>Components</td><td>Forks</td></tr>",
                            "<tr><td>Components</td><td>Handlebars</td></tr>",
                            "<tr><td>Components</td><td>Headsets</td></tr>",
                            "<tr><td>Components</td><td>Mountain Frames</td></tr>",
                            "<tr><td>Components</td><td>Road Frames</td></tr>",
                            "<tr><td>Components</td><td>Saddles</td></tr>",
                            "<tr><td>Components</td><td>Touring Frames</td></tr>",
                            "<tr><td>Components</td><td>Wheels</td></tr>",
                            "</table>"
                        ]
                    }
                }
            ],
            "execution_count": 4
        },
        {
            "cell_type": "code",
            "source": [
                "-- Retrieve a list of unique categories, subcategories, and products\r\n",
                "SELECT \r\n",
                "\t  DISTINCT\r\n",
                "\t          category,\r\n",
                "\t\t\t  subcategory,\r\n",
                "\t\t\t  product_name\r\n",
                "FROM gold.dim_products\r\n",
                "ORDER BY category, subcategory, product_name;"
            ],
            "metadata": {
                "language": "sql",
                "azdata_cell_guid": "f9baa655-4ca1-4a51-a7e5-f9c4abbf135d"
            },
            "outputs": [
                {
                    "output_type": "display_data",
                    "data": {
                        "text/html": "(295 rows affected)"
                    },
                    "metadata": {}
                },
                {
                    "output_type": "display_data",
                    "data": {
                        "text/html": "Total execution time: 00:00:00.523"
                    },
                    "metadata": {}
                },
                {
                    "output_type": "execute_result",
                    "metadata": {},
                    "execution_count": 5,
                    "data": {
                        "application/vnd.dataresource+json": {
                            "schema": {
                                "fields": [
                                    {
                                        "name": "category"
                                    },
                                    {
                                        "name": "subcategory"
                                    },
                                    {
                                        "name": "product_name"
                                    }
                                ]
                            },
                            "data": [
                                {
                                    "category": "NULL",
                                    "subcategory": "NULL",
                                    "product_name": "HL Mountain Pedal"
                                },
                                {
                                    "category": "NULL",
                                    "subcategory": "NULL",
                                    "product_name": "HL Road Pedal"
                                },
                                {
                                    "category": "NULL",
                                    "subcategory": "NULL",
                                    "product_name": "LL Mountain Pedal"
                                },
                                {
                                    "category": "NULL",
                                    "subcategory": "NULL",
                                    "product_name": "LL Road Pedal"
                                },
                                {
                                    "category": "NULL",
                                    "subcategory": "NULL",
                                    "product_name": "ML Mountain Pedal"
                                },
                                {
                                    "category": "NULL",
                                    "subcategory": "NULL",
                                    "product_name": "ML Road Pedal"
                                },
                                {
                                    "category": "NULL",
                                    "subcategory": "NULL",
                                    "product_name": "Touring Pedal"
                                },
                                {
                                    "category": "Accessories",
                                    "subcategory": "Bike Racks",
                                    "product_name": "Hitch Rack - 4-Bike"
                                },
                                {
                                    "category": "Accessories",
                                    "subcategory": "Bike Stands",
                                    "product_name": "All-Purpose Bike Stand"
                                },
                                {
                                    "category": "Accessories",
                                    "subcategory": "Bottles and Cages",
                                    "product_name": "Mountain Bottle Cage"
                                },
                                {
                                    "category": "Accessories",
                                    "subcategory": "Bottles and Cages",
                                    "product_name": "Road Bottle Cage"
                                },
                                {
                                    "category": "Accessories",
                                    "subcategory": "Bottles and Cages",
                                    "product_name": "Water Bottle - 30 oz."
                                },
                                {
                                    "category": "Accessories",
                                    "subcategory": "Cleaners",
                                    "product_name": "Bike Wash - Dissolver"
                                },
                                {
                                    "category": "Accessories",
                                    "subcategory": "Fenders",
                                    "product_name": "Fender Set - Mountain"
                                },
                                {
                                    "category": "Accessories",
                                    "subcategory": "Helmets",
                                    "product_name": "Sport-100 Helmet- Black"
                                },
                                {
                                    "category": "Accessories",
                                    "subcategory": "Helmets",
                                    "product_name": "Sport-100 Helmet- Blue"
                                },
                                {
                                    "category": "Accessories",
                                    "subcategory": "Helmets",
                                    "product_name": "Sport-100 Helmet- Red"
                                },
                                {
                                    "category": "Accessories",
                                    "subcategory": "Hydration Packs",
                                    "product_name": "Hydration Pack - 70 oz."
                                },
                                {
                                    "category": "Accessories",
                                    "subcategory": "Lights",
                                    "product_name": "Headlights - Dual-Beam"
                                },
                                {
                                    "category": "Accessories",
                                    "subcategory": "Lights",
                                    "product_name": "Headlights - Weatherproof"
                                },
                                {
                                    "category": "Accessories",
                                    "subcategory": "Lights",
                                    "product_name": "Taillights - Battery-Powered"
                                },
                                {
                                    "category": "Accessories",
                                    "subcategory": "Locks",
                                    "product_name": "Cable Lock"
                                },
                                {
                                    "category": "Accessories",
                                    "subcategory": "Panniers",
                                    "product_name": "Touring-Panniers- Large"
                                },
                                {
                                    "category": "Accessories",
                                    "subcategory": "Pumps",
                                    "product_name": "Minipump"
                                },
                                {
                                    "category": "Accessories",
                                    "subcategory": "Pumps",
                                    "product_name": "Mountain Pump"
                                },
                                {
                                    "category": "Accessories",
                                    "subcategory": "Tires and Tubes",
                                    "product_name": "HL Mountain Tire"
                                },
                                {
                                    "category": "Accessories",
                                    "subcategory": "Tires and Tubes",
                                    "product_name": "HL Road Tire"
                                },
                                {
                                    "category": "Accessories",
                                    "subcategory": "Tires and Tubes",
                                    "product_name": "LL Mountain Tire"
                                },
                                {
                                    "category": "Accessories",
                                    "subcategory": "Tires and Tubes",
                                    "product_name": "LL Road Tire"
                                },
                                {
                                    "category": "Accessories",
                                    "subcategory": "Tires and Tubes",
                                    "product_name": "ML Mountain Tire"
                                },
                                {
                                    "category": "Accessories",
                                    "subcategory": "Tires and Tubes",
                                    "product_name": "ML Road Tire"
                                },
                                {
                                    "category": "Accessories",
                                    "subcategory": "Tires and Tubes",
                                    "product_name": "Mountain Tire Tube"
                                },
                                {
                                    "category": "Accessories",
                                    "subcategory": "Tires and Tubes",
                                    "product_name": "Patch Kit/8 Patches"
                                },
                                {
                                    "category": "Accessories",
                                    "subcategory": "Tires and Tubes",
                                    "product_name": "Road Tire Tube"
                                },
                                {
                                    "category": "Accessories",
                                    "subcategory": "Tires and Tubes",
                                    "product_name": "Touring Tire"
                                },
                                {
                                    "category": "Accessories",
                                    "subcategory": "Tires and Tubes",
                                    "product_name": "Touring Tire Tube"
                                },
                                {
                                    "category": "Bikes",
                                    "subcategory": "Mountain Bikes",
                                    "product_name": "Mountain-100 Black- 38"
                                },
                                {
                                    "category": "Bikes",
                                    "subcategory": "Mountain Bikes",
                                    "product_name": "Mountain-100 Black- 42"
                                },
                                {
                                    "category": "Bikes",
                                    "subcategory": "Mountain Bikes",
                                    "product_name": "Mountain-100 Black- 44"
                                },
                                {
                                    "category": "Bikes",
                                    "subcategory": "Mountain Bikes",
                                    "product_name": "Mountain-100 Black- 48"
                                },
                                {
                                    "category": "Bikes",
                                    "subcategory": "Mountain Bikes",
                                    "product_name": "Mountain-100 Silver- 38"
                                },
                                {
                                    "category": "Bikes",
                                    "subcategory": "Mountain Bikes",
                                    "product_name": "Mountain-100 Silver- 42"
                                },
                                {
                                    "category": "Bikes",
                                    "subcategory": "Mountain Bikes",
                                    "product_name": "Mountain-100 Silver- 44"
                                },
                                {
                                    "category": "Bikes",
                                    "subcategory": "Mountain Bikes",
                                    "product_name": "Mountain-100 Silver- 48"
                                },
                                {
                                    "category": "Bikes",
                                    "subcategory": "Mountain Bikes",
                                    "product_name": "Mountain-200 Black- 38"
                                },
                                {
                                    "category": "Bikes",
                                    "subcategory": "Mountain Bikes",
                                    "product_name": "Mountain-200 Black- 42"
                                },
                                {
                                    "category": "Bikes",
                                    "subcategory": "Mountain Bikes",
                                    "product_name": "Mountain-200 Black- 46"
                                },
                                {
                                    "category": "Bikes",
                                    "subcategory": "Mountain Bikes",
                                    "product_name": "Mountain-200 Silver- 38"
                                },
                                {
                                    "category": "Bikes",
                                    "subcategory": "Mountain Bikes",
                                    "product_name": "Mountain-200 Silver- 42"
                                },
                                {
                                    "category": "Bikes",
                                    "subcategory": "Mountain Bikes",
                                    "product_name": "Mountain-200 Silver- 46"
                                },
                                {
                                    "category": "Bikes",
                                    "subcategory": "Mountain Bikes",
                                    "product_name": "Mountain-300 Black- 38"
                                },
                                {
                                    "category": "Bikes",
                                    "subcategory": "Mountain Bikes",
                                    "product_name": "Mountain-300 Black- 40"
                                },
                                {
                                    "category": "Bikes",
                                    "subcategory": "Mountain Bikes",
                                    "product_name": "Mountain-300 Black- 44"
                                },
                                {
                                    "category": "Bikes",
                                    "subcategory": "Mountain Bikes",
                                    "product_name": "Mountain-300 Black- 48"
                                },
                                {
                                    "category": "Bikes",
                                    "subcategory": "Mountain Bikes",
                                    "product_name": "Mountain-400-W Silver- 38"
                                },
                                {
                                    "category": "Bikes",
                                    "subcategory": "Mountain Bikes",
                                    "product_name": "Mountain-400-W Silver- 40"
                                },
                                {
                                    "category": "Bikes",
                                    "subcategory": "Mountain Bikes",
                                    "product_name": "Mountain-400-W Silver- 42"
                                },
                                {
                                    "category": "Bikes",
                                    "subcategory": "Mountain Bikes",
                                    "product_name": "Mountain-400-W Silver- 46"
                                },
                                {
                                    "category": "Bikes",
                                    "subcategory": "Mountain Bikes",
                                    "product_name": "Mountain-500 Black- 40"
                                },
                                {
                                    "category": "Bikes",
                                    "subcategory": "Mountain Bikes",
                                    "product_name": "Mountain-500 Black- 42"
                                },
                                {
                                    "category": "Bikes",
                                    "subcategory": "Mountain Bikes",
                                    "product_name": "Mountain-500 Black- 44"
                                },
                                {
                                    "category": "Bikes",
                                    "subcategory": "Mountain Bikes",
                                    "product_name": "Mountain-500 Black- 48"
                                },
                                {
                                    "category": "Bikes",
                                    "subcategory": "Mountain Bikes",
                                    "product_name": "Mountain-500 Black- 52"
                                },
                                {
                                    "category": "Bikes",
                                    "subcategory": "Mountain Bikes",
                                    "product_name": "Mountain-500 Silver- 40"
                                },
                                {
                                    "category": "Bikes",
                                    "subcategory": "Mountain Bikes",
                                    "product_name": "Mountain-500 Silver- 42"
                                },
                                {
                                    "category": "Bikes",
                                    "subcategory": "Mountain Bikes",
                                    "product_name": "Mountain-500 Silver- 44"
                                },
                                {
                                    "category": "Bikes",
                                    "subcategory": "Mountain Bikes",
                                    "product_name": "Mountain-500 Silver- 48"
                                },
                                {
                                    "category": "Bikes",
                                    "subcategory": "Mountain Bikes",
                                    "product_name": "Mountain-500 Silver- 52"
                                },
                                {
                                    "category": "Bikes",
                                    "subcategory": "Road Bikes",
                                    "product_name": "Road-150 Red- 44"
                                },
                                {
                                    "category": "Bikes",
                                    "subcategory": "Road Bikes",
                                    "product_name": "Road-150 Red- 48"
                                },
                                {
                                    "category": "Bikes",
                                    "subcategory": "Road Bikes",
                                    "product_name": "Road-150 Red- 52"
                                },
                                {
                                    "category": "Bikes",
                                    "subcategory": "Road Bikes",
                                    "product_name": "Road-150 Red- 56"
                                },
                                {
                                    "category": "Bikes",
                                    "subcategory": "Road Bikes",
                                    "product_name": "Road-150 Red- 62"
                                },
                                {
                                    "category": "Bikes",
                                    "subcategory": "Road Bikes",
                                    "product_name": "Road-250 Black- 44"
                                },
                                {
                                    "category": "Bikes",
                                    "subcategory": "Road Bikes",
                                    "product_name": "Road-250 Black- 48"
                                },
                                {
                                    "category": "Bikes",
                                    "subcategory": "Road Bikes",
                                    "product_name": "Road-250 Black- 52"
                                },
                                {
                                    "category": "Bikes",
                                    "subcategory": "Road Bikes",
                                    "product_name": "Road-250 Black- 58"
                                },
                                {
                                    "category": "Bikes",
                                    "subcategory": "Road Bikes",
                                    "product_name": "Road-250 Red- 44"
                                },
                                {
                                    "category": "Bikes",
                                    "subcategory": "Road Bikes",
                                    "product_name": "Road-250 Red- 48"
                                },
                                {
                                    "category": "Bikes",
                                    "subcategory": "Road Bikes",
                                    "product_name": "Road-250 Red- 52"
                                },
                                {
                                    "category": "Bikes",
                                    "subcategory": "Road Bikes",
                                    "product_name": "Road-250 Red- 58"
                                },
                                {
                                    "category": "Bikes",
                                    "subcategory": "Road Bikes",
                                    "product_name": "Road-350-W Yellow- 40"
                                },
                                {
                                    "category": "Bikes",
                                    "subcategory": "Road Bikes",
                                    "product_name": "Road-350-W Yellow- 42"
                                },
                                {
                                    "category": "Bikes",
                                    "subcategory": "Road Bikes",
                                    "product_name": "Road-350-W Yellow- 44"
                                },
                                {
                                    "category": "Bikes",
                                    "subcategory": "Road Bikes",
                                    "product_name": "Road-350-W Yellow- 48"
                                },
                                {
                                    "category": "Bikes",
                                    "subcategory": "Road Bikes",
                                    "product_name": "Road-450 Red- 44"
                                },
                                {
                                    "category": "Bikes",
                                    "subcategory": "Road Bikes",
                                    "product_name": "Road-450 Red- 48"
                                },
                                {
                                    "category": "Bikes",
                                    "subcategory": "Road Bikes",
                                    "product_name": "Road-450 Red- 52"
                                },
                                {
                                    "category": "Bikes",
                                    "subcategory": "Road Bikes",
                                    "product_name": "Road-450 Red- 58"
                                },
                                {
                                    "category": "Bikes",
                                    "subcategory": "Road Bikes",
                                    "product_name": "Road-450 Red- 60"
                                },
                                {
                                    "category": "Bikes",
                                    "subcategory": "Road Bikes",
                                    "product_name": "Road-550-W Yellow- 38"
                                },
                                {
                                    "category": "Bikes",
                                    "subcategory": "Road Bikes",
                                    "product_name": "Road-550-W Yellow- 40"
                                },
                                {
                                    "category": "Bikes",
                                    "subcategory": "Road Bikes",
                                    "product_name": "Road-550-W Yellow- 42"
                                },
                                {
                                    "category": "Bikes",
                                    "subcategory": "Road Bikes",
                                    "product_name": "Road-550-W Yellow- 44"
                                },
                                {
                                    "category": "Bikes",
                                    "subcategory": "Road Bikes",
                                    "product_name": "Road-550-W Yellow- 48"
                                },
                                {
                                    "category": "Bikes",
                                    "subcategory": "Road Bikes",
                                    "product_name": "Road-650 Black- 44"
                                },
                                {
                                    "category": "Bikes",
                                    "subcategory": "Road Bikes",
                                    "product_name": "Road-650 Black- 48"
                                },
                                {
                                    "category": "Bikes",
                                    "subcategory": "Road Bikes",
                                    "product_name": "Road-650 Black- 52"
                                },
                                {
                                    "category": "Bikes",
                                    "subcategory": "Road Bikes",
                                    "product_name": "Road-650 Black- 58"
                                },
                                {
                                    "category": "Bikes",
                                    "subcategory": "Road Bikes",
                                    "product_name": "Road-650 Black- 60"
                                },
                                {
                                    "category": "Bikes",
                                    "subcategory": "Road Bikes",
                                    "product_name": "Road-650 Black- 62"
                                },
                                {
                                    "category": "Bikes",
                                    "subcategory": "Road Bikes",
                                    "product_name": "Road-650 Red- 44"
                                },
                                {
                                    "category": "Bikes",
                                    "subcategory": "Road Bikes",
                                    "product_name": "Road-650 Red- 48"
                                },
                                {
                                    "category": "Bikes",
                                    "subcategory": "Road Bikes",
                                    "product_name": "Road-650 Red- 52"
                                },
                                {
                                    "category": "Bikes",
                                    "subcategory": "Road Bikes",
                                    "product_name": "Road-650 Red- 58"
                                },
                                {
                                    "category": "Bikes",
                                    "subcategory": "Road Bikes",
                                    "product_name": "Road-650 Red- 60"
                                },
                                {
                                    "category": "Bikes",
                                    "subcategory": "Road Bikes",
                                    "product_name": "Road-650 Red- 62"
                                },
                                {
                                    "category": "Bikes",
                                    "subcategory": "Road Bikes",
                                    "product_name": "Road-750 Black- 44"
                                },
                                {
                                    "category": "Bikes",
                                    "subcategory": "Road Bikes",
                                    "product_name": "Road-750 Black- 48"
                                },
                                {
                                    "category": "Bikes",
                                    "subcategory": "Road Bikes",
                                    "product_name": "Road-750 Black- 52"
                                },
                                {
                                    "category": "Bikes",
                                    "subcategory": "Road Bikes",
                                    "product_name": "Road-750 Black- 58"
                                },
                                {
                                    "category": "Bikes",
                                    "subcategory": "Touring Bikes",
                                    "product_name": "Touring-1000 Blue- 46"
                                },
                                {
                                    "category": "Bikes",
                                    "subcategory": "Touring Bikes",
                                    "product_name": "Touring-1000 Blue- 50"
                                },
                                {
                                    "category": "Bikes",
                                    "subcategory": "Touring Bikes",
                                    "product_name": "Touring-1000 Blue- 54"
                                },
                                {
                                    "category": "Bikes",
                                    "subcategory": "Touring Bikes",
                                    "product_name": "Touring-1000 Blue- 60"
                                },
                                {
                                    "category": "Bikes",
                                    "subcategory": "Touring Bikes",
                                    "product_name": "Touring-1000 Yellow- 46"
                                },
                                {
                                    "category": "Bikes",
                                    "subcategory": "Touring Bikes",
                                    "product_name": "Touring-1000 Yellow- 50"
                                },
                                {
                                    "category": "Bikes",
                                    "subcategory": "Touring Bikes",
                                    "product_name": "Touring-1000 Yellow- 54"
                                },
                                {
                                    "category": "Bikes",
                                    "subcategory": "Touring Bikes",
                                    "product_name": "Touring-1000 Yellow- 60"
                                },
                                {
                                    "category": "Bikes",
                                    "subcategory": "Touring Bikes",
                                    "product_name": "Touring-2000 Blue- 46"
                                },
                                {
                                    "category": "Bikes",
                                    "subcategory": "Touring Bikes",
                                    "product_name": "Touring-2000 Blue- 50"
                                },
                                {
                                    "category": "Bikes",
                                    "subcategory": "Touring Bikes",
                                    "product_name": "Touring-2000 Blue- 54"
                                },
                                {
                                    "category": "Bikes",
                                    "subcategory": "Touring Bikes",
                                    "product_name": "Touring-2000 Blue- 60"
                                },
                                {
                                    "category": "Bikes",
                                    "subcategory": "Touring Bikes",
                                    "product_name": "Touring-3000 Blue- 44"
                                },
                                {
                                    "category": "Bikes",
                                    "subcategory": "Touring Bikes",
                                    "product_name": "Touring-3000 Blue- 50"
                                },
                                {
                                    "category": "Bikes",
                                    "subcategory": "Touring Bikes",
                                    "product_name": "Touring-3000 Blue- 54"
                                },
                                {
                                    "category": "Bikes",
                                    "subcategory": "Touring Bikes",
                                    "product_name": "Touring-3000 Blue- 58"
                                },
                                {
                                    "category": "Bikes",
                                    "subcategory": "Touring Bikes",
                                    "product_name": "Touring-3000 Blue- 62"
                                },
                                {
                                    "category": "Bikes",
                                    "subcategory": "Touring Bikes",
                                    "product_name": "Touring-3000 Yellow- 44"
                                },
                                {
                                    "category": "Bikes",
                                    "subcategory": "Touring Bikes",
                                    "product_name": "Touring-3000 Yellow- 50"
                                },
                                {
                                    "category": "Bikes",
                                    "subcategory": "Touring Bikes",
                                    "product_name": "Touring-3000 Yellow- 54"
                                },
                                {
                                    "category": "Bikes",
                                    "subcategory": "Touring Bikes",
                                    "product_name": "Touring-3000 Yellow- 58"
                                },
                                {
                                    "category": "Bikes",
                                    "subcategory": "Touring Bikes",
                                    "product_name": "Touring-3000 Yellow- 62"
                                },
                                {
                                    "category": "Clothing",
                                    "subcategory": "Bib-Shorts",
                                    "product_name": "Men's Bib-Shorts- L"
                                },
                                {
                                    "category": "Clothing",
                                    "subcategory": "Bib-Shorts",
                                    "product_name": "Men's Bib-Shorts- M"
                                },
                                {
                                    "category": "Clothing",
                                    "subcategory": "Bib-Shorts",
                                    "product_name": "Men's Bib-Shorts- S"
                                },
                                {
                                    "category": "Clothing",
                                    "subcategory": "Caps",
                                    "product_name": "AWC Logo Cap"
                                },
                                {
                                    "category": "Clothing",
                                    "subcategory": "Gloves",
                                    "product_name": "Full-Finger Gloves- L"
                                },
                                {
                                    "category": "Clothing",
                                    "subcategory": "Gloves",
                                    "product_name": "Full-Finger Gloves- M"
                                },
                                {
                                    "category": "Clothing",
                                    "subcategory": "Gloves",
                                    "product_name": "Full-Finger Gloves- S"
                                },
                                {
                                    "category": "Clothing",
                                    "subcategory": "Gloves",
                                    "product_name": "Half-Finger Gloves- L"
                                },
                                {
                                    "category": "Clothing",
                                    "subcategory": "Gloves",
                                    "product_name": "Half-Finger Gloves- M"
                                },
                                {
                                    "category": "Clothing",
                                    "subcategory": "Gloves",
                                    "product_name": "Half-Finger Gloves- S"
                                },
                                {
                                    "category": "Clothing",
                                    "subcategory": "Jerseys",
                                    "product_name": "Long-Sleeve Logo Jersey- L"
                                },
                                {
                                    "category": "Clothing",
                                    "subcategory": "Jerseys",
                                    "product_name": "Long-Sleeve Logo Jersey- M"
                                },
                                {
                                    "category": "Clothing",
                                    "subcategory": "Jerseys",
                                    "product_name": "Long-Sleeve Logo Jersey- S"
                                },
                                {
                                    "category": "Clothing",
                                    "subcategory": "Jerseys",
                                    "product_name": "Long-Sleeve Logo Jersey- XL"
                                },
                                {
                                    "category": "Clothing",
                                    "subcategory": "Jerseys",
                                    "product_name": "Short-Sleeve Classic Jersey- L"
                                },
                                {
                                    "category": "Clothing",
                                    "subcategory": "Jerseys",
                                    "product_name": "Short-Sleeve Classic Jersey- M"
                                },
                                {
                                    "category": "Clothing",
                                    "subcategory": "Jerseys",
                                    "product_name": "Short-Sleeve Classic Jersey- S"
                                },
                                {
                                    "category": "Clothing",
                                    "subcategory": "Jerseys",
                                    "product_name": "Short-Sleeve Classic Jersey- XL"
                                },
                                {
                                    "category": "Clothing",
                                    "subcategory": "Shorts",
                                    "product_name": "Men's Sports Shorts- L"
                                },
                                {
                                    "category": "Clothing",
                                    "subcategory": "Shorts",
                                    "product_name": "Men's Sports Shorts- M"
                                },
                                {
                                    "category": "Clothing",
                                    "subcategory": "Shorts",
                                    "product_name": "Men's Sports Shorts- S"
                                },
                                {
                                    "category": "Clothing",
                                    "subcategory": "Shorts",
                                    "product_name": "Men's Sports Shorts- XL"
                                },
                                {
                                    "category": "Clothing",
                                    "subcategory": "Shorts",
                                    "product_name": "Women's Mountain Shorts- L"
                                },
                                {
                                    "category": "Clothing",
                                    "subcategory": "Shorts",
                                    "product_name": "Women's Mountain Shorts- M"
                                },
                                {
                                    "category": "Clothing",
                                    "subcategory": "Shorts",
                                    "product_name": "Women's Mountain Shorts- S"
                                },
                                {
                                    "category": "Clothing",
                                    "subcategory": "Socks",
                                    "product_name": "Mountain Bike Socks- L"
                                },
                                {
                                    "category": "Clothing",
                                    "subcategory": "Socks",
                                    "product_name": "Mountain Bike Socks- M"
                                },
                                {
                                    "category": "Clothing",
                                    "subcategory": "Socks",
                                    "product_name": "Racing Socks- L"
                                },
                                {
                                    "category": "Clothing",
                                    "subcategory": "Socks",
                                    "product_name": "Racing Socks- M"
                                },
                                {
                                    "category": "Clothing",
                                    "subcategory": "Tights",
                                    "product_name": "Women's Tights- L"
                                },
                                {
                                    "category": "Clothing",
                                    "subcategory": "Tights",
                                    "product_name": "Women's Tights- M"
                                },
                                {
                                    "category": "Clothing",
                                    "subcategory": "Tights",
                                    "product_name": "Women's Tights- S"
                                },
                                {
                                    "category": "Clothing",
                                    "subcategory": "Vests",
                                    "product_name": "Classic Vest- L"
                                },
                                {
                                    "category": "Clothing",
                                    "subcategory": "Vests",
                                    "product_name": "Classic Vest- M"
                                },
                                {
                                    "category": "Clothing",
                                    "subcategory": "Vests",
                                    "product_name": "Classic Vest- S"
                                },
                                {
                                    "category": "Components",
                                    "subcategory": "Bottom Brackets",
                                    "product_name": "HL Bottom Bracket"
                                },
                                {
                                    "category": "Components",
                                    "subcategory": "Bottom Brackets",
                                    "product_name": "LL Bottom Bracket"
                                },
                                {
                                    "category": "Components",
                                    "subcategory": "Bottom Brackets",
                                    "product_name": "ML Bottom Bracket"
                                },
                                {
                                    "category": "Components",
                                    "subcategory": "Brakes",
                                    "product_name": "Front Brakes"
                                },
                                {
                                    "category": "Components",
                                    "subcategory": "Brakes",
                                    "product_name": "Rear Brakes"
                                },
                                {
                                    "category": "Components",
                                    "subcategory": "Chains",
                                    "product_name": "Chain"
                                },
                                {
                                    "category": "Components",
                                    "subcategory": "Cranksets",
                                    "product_name": "HL Crankset"
                                },
                                {
                                    "category": "Components",
                                    "subcategory": "Cranksets",
                                    "product_name": "LL Crankset"
                                },
                                {
                                    "category": "Components",
                                    "subcategory": "Cranksets",
                                    "product_name": "ML Crankset"
                                },
                                {
                                    "category": "Components",
                                    "subcategory": "Derailleurs",
                                    "product_name": "Front Derailleur"
                                },
                                {
                                    "category": "Components",
                                    "subcategory": "Derailleurs",
                                    "product_name": "Rear Derailleur"
                                },
                                {
                                    "category": "Components",
                                    "subcategory": "Forks",
                                    "product_name": "HL Fork"
                                },
                                {
                                    "category": "Components",
                                    "subcategory": "Forks",
                                    "product_name": "LL Fork"
                                },
                                {
                                    "category": "Components",
                                    "subcategory": "Forks",
                                    "product_name": "ML Fork"
                                },
                                {
                                    "category": "Components",
                                    "subcategory": "Handlebars",
                                    "product_name": "HL Mountain Handlebars"
                                },
                                {
                                    "category": "Components",
                                    "subcategory": "Handlebars",
                                    "product_name": "HL Road Handlebars"
                                },
                                {
                                    "category": "Components",
                                    "subcategory": "Handlebars",
                                    "product_name": "HL Touring Handlebars"
                                },
                                {
                                    "category": "Components",
                                    "subcategory": "Handlebars",
                                    "product_name": "LL Mountain Handlebars"
                                },
                                {
                                    "category": "Components",
                                    "subcategory": "Handlebars",
                                    "product_name": "LL Road Handlebars"
                                },
                                {
                                    "category": "Components",
                                    "subcategory": "Handlebars",
                                    "product_name": "LL Touring Handlebars"
                                },
                                {
                                    "category": "Components",
                                    "subcategory": "Handlebars",
                                    "product_name": "ML Mountain Handlebars"
                                },
                                {
                                    "category": "Components",
                                    "subcategory": "Handlebars",
                                    "product_name": "ML Road Handlebars"
                                },
                                {
                                    "category": "Components",
                                    "subcategory": "Headsets",
                                    "product_name": "HL Headset"
                                },
                                {
                                    "category": "Components",
                                    "subcategory": "Headsets",
                                    "product_name": "LL Headset"
                                },
                                {
                                    "category": "Components",
                                    "subcategory": "Headsets",
                                    "product_name": "ML Headset"
                                },
                                {
                                    "category": "Components",
                                    "subcategory": "Mountain Frames",
                                    "product_name": "HL Mountain Frame - Black- 38"
                                },
                                {
                                    "category": "Components",
                                    "subcategory": "Mountain Frames",
                                    "product_name": "HL Mountain Frame - Black- 42"
                                },
                                {
                                    "category": "Components",
                                    "subcategory": "Mountain Frames",
                                    "product_name": "HL Mountain Frame - Black- 44"
                                },
                                {
                                    "category": "Components",
                                    "subcategory": "Mountain Frames",
                                    "product_name": "HL Mountain Frame - Black- 46"
                                },
                                {
                                    "category": "Components",
                                    "subcategory": "Mountain Frames",
                                    "product_name": "HL Mountain Frame - Black- 48"
                                },
                                {
                                    "category": "Components",
                                    "subcategory": "Mountain Frames",
                                    "product_name": "HL Mountain Frame - Silver- 38"
                                },
                                {
                                    "category": "Components",
                                    "subcategory": "Mountain Frames",
                                    "product_name": "HL Mountain Frame - Silver- 42"
                                },
                                {
                                    "category": "Components",
                                    "subcategory": "Mountain Frames",
                                    "product_name": "HL Mountain Frame - Silver- 44"
                                },
                                {
                                    "category": "Components",
                                    "subcategory": "Mountain Frames",
                                    "product_name": "HL Mountain Frame - Silver- 46"
                                },
                                {
                                    "category": "Components",
                                    "subcategory": "Mountain Frames",
                                    "product_name": "HL Mountain Frame - Silver- 48"
                                },
                                {
                                    "category": "Components",
                                    "subcategory": "Mountain Frames",
                                    "product_name": "LL Mountain Frame - Black- 40"
                                },
                                {
                                    "category": "Components",
                                    "subcategory": "Mountain Frames",
                                    "product_name": "LL Mountain Frame - Black- 42"
                                },
                                {
                                    "category": "Components",
                                    "subcategory": "Mountain Frames",
                                    "product_name": "LL Mountain Frame - Black- 44"
                                },
                                {
                                    "category": "Components",
                                    "subcategory": "Mountain Frames",
                                    "product_name": "LL Mountain Frame - Black- 48"
                                },
                                {
                                    "category": "Components",
                                    "subcategory": "Mountain Frames",
                                    "product_name": "LL Mountain Frame - Black- 52"
                                },
                                {
                                    "category": "Components",
                                    "subcategory": "Mountain Frames",
                                    "product_name": "LL Mountain Frame - Silver- 40"
                                },
                                {
                                    "category": "Components",
                                    "subcategory": "Mountain Frames",
                                    "product_name": "LL Mountain Frame - Silver- 42"
                                },
                                {
                                    "category": "Components",
                                    "subcategory": "Mountain Frames",
                                    "product_name": "LL Mountain Frame - Silver- 44"
                                },
                                {
                                    "category": "Components",
                                    "subcategory": "Mountain Frames",
                                    "product_name": "LL Mountain Frame - Silver- 48"
                                },
                                {
                                    "category": "Components",
                                    "subcategory": "Mountain Frames",
                                    "product_name": "LL Mountain Frame - Silver- 52"
                                },
                                {
                                    "category": "Components",
                                    "subcategory": "Mountain Frames",
                                    "product_name": "ML Mountain Frame - Black- 38"
                                },
                                {
                                    "category": "Components",
                                    "subcategory": "Mountain Frames",
                                    "product_name": "ML Mountain Frame - Black- 40"
                                },
                                {
                                    "category": "Components",
                                    "subcategory": "Mountain Frames",
                                    "product_name": "ML Mountain Frame - Black- 44"
                                },
                                {
                                    "category": "Components",
                                    "subcategory": "Mountain Frames",
                                    "product_name": "ML Mountain Frame - Black- 48"
                                },
                                {
                                    "category": "Components",
                                    "subcategory": "Mountain Frames",
                                    "product_name": "ML Mountain Frame-W - Silver- 38"
                                },
                                {
                                    "category": "Components",
                                    "subcategory": "Mountain Frames",
                                    "product_name": "ML Mountain Frame-W - Silver- 40"
                                },
                                {
                                    "category": "Components",
                                    "subcategory": "Mountain Frames",
                                    "product_name": "ML Mountain Frame-W - Silver- 42"
                                },
                                {
                                    "category": "Components",
                                    "subcategory": "Mountain Frames",
                                    "product_name": "ML Mountain Frame-W - Silver- 46"
                                },
                                {
                                    "category": "Components",
                                    "subcategory": "Road Frames",
                                    "product_name": "HL Road Frame - Black- 44"
                                },
                                {
                                    "category": "Components",
                                    "subcategory": "Road Frames",
                                    "product_name": "HL Road Frame - Black- 48"
                                },
                                {
                                    "category": "Components",
                                    "subcategory": "Road Frames",
                                    "product_name": "HL Road Frame - Black- 52"
                                },
                                {
                                    "category": "Components",
                                    "subcategory": "Road Frames",
                                    "product_name": "HL Road Frame - Black- 58"
                                },
                                {
                                    "category": "Components",
                                    "subcategory": "Road Frames",
                                    "product_name": "HL Road Frame - Black- 62"
                                },
                                {
                                    "category": "Components",
                                    "subcategory": "Road Frames",
                                    "product_name": "HL Road Frame - Red- 44"
                                },
                                {
                                    "category": "Components",
                                    "subcategory": "Road Frames",
                                    "product_name": "HL Road Frame - Red- 48"
                                },
                                {
                                    "category": "Components",
                                    "subcategory": "Road Frames",
                                    "product_name": "HL Road Frame - Red- 52"
                                },
                                {
                                    "category": "Components",
                                    "subcategory": "Road Frames",
                                    "product_name": "HL Road Frame - Red- 56"
                                },
                                {
                                    "category": "Components",
                                    "subcategory": "Road Frames",
                                    "product_name": "HL Road Frame - Red- 58"
                                },
                                {
                                    "category": "Components",
                                    "subcategory": "Road Frames",
                                    "product_name": "HL Road Frame - Red- 62"
                                },
                                {
                                    "category": "Components",
                                    "subcategory": "Road Frames",
                                    "product_name": "LL Road Frame - Black- 44"
                                },
                                {
                                    "category": "Components",
                                    "subcategory": "Road Frames",
                                    "product_name": "LL Road Frame - Black- 48"
                                },
                                {
                                    "category": "Components",
                                    "subcategory": "Road Frames",
                                    "product_name": "LL Road Frame - Black- 52"
                                },
                                {
                                    "category": "Components",
                                    "subcategory": "Road Frames",
                                    "product_name": "LL Road Frame - Black- 58"
                                },
                                {
                                    "category": "Components",
                                    "subcategory": "Road Frames",
                                    "product_name": "LL Road Frame - Black- 60"
                                },
                                {
                                    "category": "Components",
                                    "subcategory": "Road Frames",
                                    "product_name": "LL Road Frame - Black- 62"
                                },
                                {
                                    "category": "Components",
                                    "subcategory": "Road Frames",
                                    "product_name": "LL Road Frame - Red- 44"
                                },
                                {
                                    "category": "Components",
                                    "subcategory": "Road Frames",
                                    "product_name": "LL Road Frame - Red- 48"
                                },
                                {
                                    "category": "Components",
                                    "subcategory": "Road Frames",
                                    "product_name": "LL Road Frame - Red- 52"
                                },
                                {
                                    "category": "Components",
                                    "subcategory": "Road Frames",
                                    "product_name": "LL Road Frame - Red- 58"
                                },
                                {
                                    "category": "Components",
                                    "subcategory": "Road Frames",
                                    "product_name": "LL Road Frame - Red- 60"
                                },
                                {
                                    "category": "Components",
                                    "subcategory": "Road Frames",
                                    "product_name": "LL Road Frame - Red- 62"
                                },
                                {
                                    "category": "Components",
                                    "subcategory": "Road Frames",
                                    "product_name": "ML Road Frame - Red- 44"
                                },
                                {
                                    "category": "Components",
                                    "subcategory": "Road Frames",
                                    "product_name": "ML Road Frame - Red- 48"
                                },
                                {
                                    "category": "Components",
                                    "subcategory": "Road Frames",
                                    "product_name": "ML Road Frame - Red- 52"
                                },
                                {
                                    "category": "Components",
                                    "subcategory": "Road Frames",
                                    "product_name": "ML Road Frame - Red- 58"
                                },
                                {
                                    "category": "Components",
                                    "subcategory": "Road Frames",
                                    "product_name": "ML Road Frame - Red- 60"
                                },
                                {
                                    "category": "Components",
                                    "subcategory": "Road Frames",
                                    "product_name": "ML Road Frame-W - Yellow- 38"
                                },
                                {
                                    "category": "Components",
                                    "subcategory": "Road Frames",
                                    "product_name": "ML Road Frame-W - Yellow- 40"
                                },
                                {
                                    "category": "Components",
                                    "subcategory": "Road Frames",
                                    "product_name": "ML Road Frame-W - Yellow- 42"
                                },
                                {
                                    "category": "Components",
                                    "subcategory": "Road Frames",
                                    "product_name": "ML Road Frame-W - Yellow- 44"
                                },
                                {
                                    "category": "Components",
                                    "subcategory": "Road Frames",
                                    "product_name": "ML Road Frame-W - Yellow- 48"
                                },
                                {
                                    "category": "Components",
                                    "subcategory": "Saddles",
                                    "product_name": "HL Mountain Seat/Saddle"
                                },
                                {
                                    "category": "Components",
                                    "subcategory": "Saddles",
                                    "product_name": "HL Road Seat/Saddle"
                                },
                                {
                                    "category": "Components",
                                    "subcategory": "Saddles",
                                    "product_name": "HL Touring Seat/Saddle"
                                },
                                {
                                    "category": "Components",
                                    "subcategory": "Saddles",
                                    "product_name": "LL Mountain Seat/Saddle"
                                },
                                {
                                    "category": "Components",
                                    "subcategory": "Saddles",
                                    "product_name": "LL Road Seat/Saddle"
                                },
                                {
                                    "category": "Components",
                                    "subcategory": "Saddles",
                                    "product_name": "LL Touring Seat/Saddle"
                                },
                                {
                                    "category": "Components",
                                    "subcategory": "Saddles",
                                    "product_name": "ML Mountain Seat/Saddle"
                                },
                                {
                                    "category": "Components",
                                    "subcategory": "Saddles",
                                    "product_name": "ML Road Seat/Saddle"
                                },
                                {
                                    "category": "Components",
                                    "subcategory": "Saddles",
                                    "product_name": "ML Touring Seat/Saddle"
                                },
                                {
                                    "category": "Components",
                                    "subcategory": "Touring Frames",
                                    "product_name": "HL Touring Frame - Blue- 46"
                                },
                                {
                                    "category": "Components",
                                    "subcategory": "Touring Frames",
                                    "product_name": "HL Touring Frame - Blue- 50"
                                },
                                {
                                    "category": "Components",
                                    "subcategory": "Touring Frames",
                                    "product_name": "HL Touring Frame - Blue- 54"
                                },
                                {
                                    "category": "Components",
                                    "subcategory": "Touring Frames",
                                    "product_name": "HL Touring Frame - Blue- 60"
                                },
                                {
                                    "category": "Components",
                                    "subcategory": "Touring Frames",
                                    "product_name": "HL Touring Frame - Yellow- 46"
                                },
                                {
                                    "category": "Components",
                                    "subcategory": "Touring Frames",
                                    "product_name": "HL Touring Frame - Yellow- 50"
                                },
                                {
                                    "category": "Components",
                                    "subcategory": "Touring Frames",
                                    "product_name": "HL Touring Frame - Yellow- 54"
                                },
                                {
                                    "category": "Components",
                                    "subcategory": "Touring Frames",
                                    "product_name": "HL Touring Frame - Yellow- 60"
                                },
                                {
                                    "category": "Components",
                                    "subcategory": "Touring Frames",
                                    "product_name": "LL Touring Frame - Blue- 44"
                                },
                                {
                                    "category": "Components",
                                    "subcategory": "Touring Frames",
                                    "product_name": "LL Touring Frame - Blue- 50"
                                },
                                {
                                    "category": "Components",
                                    "subcategory": "Touring Frames",
                                    "product_name": "LL Touring Frame - Blue- 54"
                                },
                                {
                                    "category": "Components",
                                    "subcategory": "Touring Frames",
                                    "product_name": "LL Touring Frame - Blue- 58"
                                },
                                {
                                    "category": "Components",
                                    "subcategory": "Touring Frames",
                                    "product_name": "LL Touring Frame - Blue- 62"
                                },
                                {
                                    "category": "Components",
                                    "subcategory": "Touring Frames",
                                    "product_name": "LL Touring Frame - Yellow- 44"
                                },
                                {
                                    "category": "Components",
                                    "subcategory": "Touring Frames",
                                    "product_name": "LL Touring Frame - Yellow- 50"
                                },
                                {
                                    "category": "Components",
                                    "subcategory": "Touring Frames",
                                    "product_name": "LL Touring Frame - Yellow- 54"
                                },
                                {
                                    "category": "Components",
                                    "subcategory": "Touring Frames",
                                    "product_name": "LL Touring Frame - Yellow- 58"
                                },
                                {
                                    "category": "Components",
                                    "subcategory": "Touring Frames",
                                    "product_name": "LL Touring Frame - Yellow- 62"
                                },
                                {
                                    "category": "Components",
                                    "subcategory": "Wheels",
                                    "product_name": "HL Mountain Front Wheel"
                                },
                                {
                                    "category": "Components",
                                    "subcategory": "Wheels",
                                    "product_name": "HL Mountain Rear Wheel"
                                },
                                {
                                    "category": "Components",
                                    "subcategory": "Wheels",
                                    "product_name": "HL Road Front Wheel"
                                },
                                {
                                    "category": "Components",
                                    "subcategory": "Wheels",
                                    "product_name": "HL Road Rear Wheel"
                                },
                                {
                                    "category": "Components",
                                    "subcategory": "Wheels",
                                    "product_name": "LL Mountain Front Wheel"
                                },
                                {
                                    "category": "Components",
                                    "subcategory": "Wheels",
                                    "product_name": "LL Mountain Rear Wheel"
                                },
                                {
                                    "category": "Components",
                                    "subcategory": "Wheels",
                                    "product_name": "LL Road Front Wheel"
                                },
                                {
                                    "category": "Components",
                                    "subcategory": "Wheels",
                                    "product_name": "LL Road Rear Wheel"
                                },
                                {
                                    "category": "Components",
                                    "subcategory": "Wheels",
                                    "product_name": "ML Mountain Front Wheel"
                                },
                                {
                                    "category": "Components",
                                    "subcategory": "Wheels",
                                    "product_name": "ML Mountain Rear Wheel"
                                },
                                {
                                    "category": "Components",
                                    "subcategory": "Wheels",
                                    "product_name": "ML Road Front Wheel"
                                },
                                {
                                    "category": "Components",
                                    "subcategory": "Wheels",
                                    "product_name": "ML Road Rear Wheel"
                                },
                                {
                                    "category": "Components",
                                    "subcategory": "Wheels",
                                    "product_name": "Touring Front Wheel"
                                },
                                {
                                    "category": "Components",
                                    "subcategory": "Wheels",
                                    "product_name": "Touring Rear Wheel"
                                }
                            ]
                        },
                        "text/html": [
                            "<table>",
                            "<tr><th>category</th><th>subcategory</th><th>product_name</th></tr>",
                            "<tr><td>NULL</td><td>NULL</td><td>HL Mountain Pedal</td></tr>",
                            "<tr><td>NULL</td><td>NULL</td><td>HL Road Pedal</td></tr>",
                            "<tr><td>NULL</td><td>NULL</td><td>LL Mountain Pedal</td></tr>",
                            "<tr><td>NULL</td><td>NULL</td><td>LL Road Pedal</td></tr>",
                            "<tr><td>NULL</td><td>NULL</td><td>ML Mountain Pedal</td></tr>",
                            "<tr><td>NULL</td><td>NULL</td><td>ML Road Pedal</td></tr>",
                            "<tr><td>NULL</td><td>NULL</td><td>Touring Pedal</td></tr>",
                            "<tr><td>Accessories</td><td>Bike Racks</td><td>Hitch Rack - 4-Bike</td></tr>",
                            "<tr><td>Accessories</td><td>Bike Stands</td><td>All-Purpose Bike Stand</td></tr>",
                            "<tr><td>Accessories</td><td>Bottles and Cages</td><td>Mountain Bottle Cage</td></tr>",
                            "<tr><td>Accessories</td><td>Bottles and Cages</td><td>Road Bottle Cage</td></tr>",
                            "<tr><td>Accessories</td><td>Bottles and Cages</td><td>Water Bottle - 30 oz.</td></tr>",
                            "<tr><td>Accessories</td><td>Cleaners</td><td>Bike Wash - Dissolver</td></tr>",
                            "<tr><td>Accessories</td><td>Fenders</td><td>Fender Set - Mountain</td></tr>",
                            "<tr><td>Accessories</td><td>Helmets</td><td>Sport-100 Helmet- Black</td></tr>",
                            "<tr><td>Accessories</td><td>Helmets</td><td>Sport-100 Helmet- Blue</td></tr>",
                            "<tr><td>Accessories</td><td>Helmets</td><td>Sport-100 Helmet- Red</td></tr>",
                            "<tr><td>Accessories</td><td>Hydration Packs</td><td>Hydration Pack - 70 oz.</td></tr>",
                            "<tr><td>Accessories</td><td>Lights</td><td>Headlights - Dual-Beam</td></tr>",
                            "<tr><td>Accessories</td><td>Lights</td><td>Headlights - Weatherproof</td></tr>",
                            "<tr><td>Accessories</td><td>Lights</td><td>Taillights - Battery-Powered</td></tr>",
                            "<tr><td>Accessories</td><td>Locks</td><td>Cable Lock</td></tr>",
                            "<tr><td>Accessories</td><td>Panniers</td><td>Touring-Panniers- Large</td></tr>",
                            "<tr><td>Accessories</td><td>Pumps</td><td>Minipump</td></tr>",
                            "<tr><td>Accessories</td><td>Pumps</td><td>Mountain Pump</td></tr>",
                            "<tr><td>Accessories</td><td>Tires and Tubes</td><td>HL Mountain Tire</td></tr>",
                            "<tr><td>Accessories</td><td>Tires and Tubes</td><td>HL Road Tire</td></tr>",
                            "<tr><td>Accessories</td><td>Tires and Tubes</td><td>LL Mountain Tire</td></tr>",
                            "<tr><td>Accessories</td><td>Tires and Tubes</td><td>LL Road Tire</td></tr>",
                            "<tr><td>Accessories</td><td>Tires and Tubes</td><td>ML Mountain Tire</td></tr>",
                            "<tr><td>Accessories</td><td>Tires and Tubes</td><td>ML Road Tire</td></tr>",
                            "<tr><td>Accessories</td><td>Tires and Tubes</td><td>Mountain Tire Tube</td></tr>",
                            "<tr><td>Accessories</td><td>Tires and Tubes</td><td>Patch Kit/8 Patches</td></tr>",
                            "<tr><td>Accessories</td><td>Tires and Tubes</td><td>Road Tire Tube</td></tr>",
                            "<tr><td>Accessories</td><td>Tires and Tubes</td><td>Touring Tire</td></tr>",
                            "<tr><td>Accessories</td><td>Tires and Tubes</td><td>Touring Tire Tube</td></tr>",
                            "<tr><td>Bikes</td><td>Mountain Bikes</td><td>Mountain-100 Black- 38</td></tr>",
                            "<tr><td>Bikes</td><td>Mountain Bikes</td><td>Mountain-100 Black- 42</td></tr>",
                            "<tr><td>Bikes</td><td>Mountain Bikes</td><td>Mountain-100 Black- 44</td></tr>",
                            "<tr><td>Bikes</td><td>Mountain Bikes</td><td>Mountain-100 Black- 48</td></tr>",
                            "<tr><td>Bikes</td><td>Mountain Bikes</td><td>Mountain-100 Silver- 38</td></tr>",
                            "<tr><td>Bikes</td><td>Mountain Bikes</td><td>Mountain-100 Silver- 42</td></tr>",
                            "<tr><td>Bikes</td><td>Mountain Bikes</td><td>Mountain-100 Silver- 44</td></tr>",
                            "<tr><td>Bikes</td><td>Mountain Bikes</td><td>Mountain-100 Silver- 48</td></tr>",
                            "<tr><td>Bikes</td><td>Mountain Bikes</td><td>Mountain-200 Black- 38</td></tr>",
                            "<tr><td>Bikes</td><td>Mountain Bikes</td><td>Mountain-200 Black- 42</td></tr>",
                            "<tr><td>Bikes</td><td>Mountain Bikes</td><td>Mountain-200 Black- 46</td></tr>",
                            "<tr><td>Bikes</td><td>Mountain Bikes</td><td>Mountain-200 Silver- 38</td></tr>",
                            "<tr><td>Bikes</td><td>Mountain Bikes</td><td>Mountain-200 Silver- 42</td></tr>",
                            "<tr><td>Bikes</td><td>Mountain Bikes</td><td>Mountain-200 Silver- 46</td></tr>",
                            "<tr><td>Bikes</td><td>Mountain Bikes</td><td>Mountain-300 Black- 38</td></tr>",
                            "<tr><td>Bikes</td><td>Mountain Bikes</td><td>Mountain-300 Black- 40</td></tr>",
                            "<tr><td>Bikes</td><td>Mountain Bikes</td><td>Mountain-300 Black- 44</td></tr>",
                            "<tr><td>Bikes</td><td>Mountain Bikes</td><td>Mountain-300 Black- 48</td></tr>",
                            "<tr><td>Bikes</td><td>Mountain Bikes</td><td>Mountain-400-W Silver- 38</td></tr>",
                            "<tr><td>Bikes</td><td>Mountain Bikes</td><td>Mountain-400-W Silver- 40</td></tr>",
                            "<tr><td>Bikes</td><td>Mountain Bikes</td><td>Mountain-400-W Silver- 42</td></tr>",
                            "<tr><td>Bikes</td><td>Mountain Bikes</td><td>Mountain-400-W Silver- 46</td></tr>",
                            "<tr><td>Bikes</td><td>Mountain Bikes</td><td>Mountain-500 Black- 40</td></tr>",
                            "<tr><td>Bikes</td><td>Mountain Bikes</td><td>Mountain-500 Black- 42</td></tr>",
                            "<tr><td>Bikes</td><td>Mountain Bikes</td><td>Mountain-500 Black- 44</td></tr>",
                            "<tr><td>Bikes</td><td>Mountain Bikes</td><td>Mountain-500 Black- 48</td></tr>",
                            "<tr><td>Bikes</td><td>Mountain Bikes</td><td>Mountain-500 Black- 52</td></tr>",
                            "<tr><td>Bikes</td><td>Mountain Bikes</td><td>Mountain-500 Silver- 40</td></tr>",
                            "<tr><td>Bikes</td><td>Mountain Bikes</td><td>Mountain-500 Silver- 42</td></tr>",
                            "<tr><td>Bikes</td><td>Mountain Bikes</td><td>Mountain-500 Silver- 44</td></tr>",
                            "<tr><td>Bikes</td><td>Mountain Bikes</td><td>Mountain-500 Silver- 48</td></tr>",
                            "<tr><td>Bikes</td><td>Mountain Bikes</td><td>Mountain-500 Silver- 52</td></tr>",
                            "<tr><td>Bikes</td><td>Road Bikes</td><td>Road-150 Red- 44</td></tr>",
                            "<tr><td>Bikes</td><td>Road Bikes</td><td>Road-150 Red- 48</td></tr>",
                            "<tr><td>Bikes</td><td>Road Bikes</td><td>Road-150 Red- 52</td></tr>",
                            "<tr><td>Bikes</td><td>Road Bikes</td><td>Road-150 Red- 56</td></tr>",
                            "<tr><td>Bikes</td><td>Road Bikes</td><td>Road-150 Red- 62</td></tr>",
                            "<tr><td>Bikes</td><td>Road Bikes</td><td>Road-250 Black- 44</td></tr>",
                            "<tr><td>Bikes</td><td>Road Bikes</td><td>Road-250 Black- 48</td></tr>",
                            "<tr><td>Bikes</td><td>Road Bikes</td><td>Road-250 Black- 52</td></tr>",
                            "<tr><td>Bikes</td><td>Road Bikes</td><td>Road-250 Black- 58</td></tr>",
                            "<tr><td>Bikes</td><td>Road Bikes</td><td>Road-250 Red- 44</td></tr>",
                            "<tr><td>Bikes</td><td>Road Bikes</td><td>Road-250 Red- 48</td></tr>",
                            "<tr><td>Bikes</td><td>Road Bikes</td><td>Road-250 Red- 52</td></tr>",
                            "<tr><td>Bikes</td><td>Road Bikes</td><td>Road-250 Red- 58</td></tr>",
                            "<tr><td>Bikes</td><td>Road Bikes</td><td>Road-350-W Yellow- 40</td></tr>",
                            "<tr><td>Bikes</td><td>Road Bikes</td><td>Road-350-W Yellow- 42</td></tr>",
                            "<tr><td>Bikes</td><td>Road Bikes</td><td>Road-350-W Yellow- 44</td></tr>",
                            "<tr><td>Bikes</td><td>Road Bikes</td><td>Road-350-W Yellow- 48</td></tr>",
                            "<tr><td>Bikes</td><td>Road Bikes</td><td>Road-450 Red- 44</td></tr>",
                            "<tr><td>Bikes</td><td>Road Bikes</td><td>Road-450 Red- 48</td></tr>",
                            "<tr><td>Bikes</td><td>Road Bikes</td><td>Road-450 Red- 52</td></tr>",
                            "<tr><td>Bikes</td><td>Road Bikes</td><td>Road-450 Red- 58</td></tr>",
                            "<tr><td>Bikes</td><td>Road Bikes</td><td>Road-450 Red- 60</td></tr>",
                            "<tr><td>Bikes</td><td>Road Bikes</td><td>Road-550-W Yellow- 38</td></tr>",
                            "<tr><td>Bikes</td><td>Road Bikes</td><td>Road-550-W Yellow- 40</td></tr>",
                            "<tr><td>Bikes</td><td>Road Bikes</td><td>Road-550-W Yellow- 42</td></tr>",
                            "<tr><td>Bikes</td><td>Road Bikes</td><td>Road-550-W Yellow- 44</td></tr>",
                            "<tr><td>Bikes</td><td>Road Bikes</td><td>Road-550-W Yellow- 48</td></tr>",
                            "<tr><td>Bikes</td><td>Road Bikes</td><td>Road-650 Black- 44</td></tr>",
                            "<tr><td>Bikes</td><td>Road Bikes</td><td>Road-650 Black- 48</td></tr>",
                            "<tr><td>Bikes</td><td>Road Bikes</td><td>Road-650 Black- 52</td></tr>",
                            "<tr><td>Bikes</td><td>Road Bikes</td><td>Road-650 Black- 58</td></tr>",
                            "<tr><td>Bikes</td><td>Road Bikes</td><td>Road-650 Black- 60</td></tr>",
                            "<tr><td>Bikes</td><td>Road Bikes</td><td>Road-650 Black- 62</td></tr>",
                            "<tr><td>Bikes</td><td>Road Bikes</td><td>Road-650 Red- 44</td></tr>",
                            "<tr><td>Bikes</td><td>Road Bikes</td><td>Road-650 Red- 48</td></tr>",
                            "<tr><td>Bikes</td><td>Road Bikes</td><td>Road-650 Red- 52</td></tr>",
                            "<tr><td>Bikes</td><td>Road Bikes</td><td>Road-650 Red- 58</td></tr>",
                            "<tr><td>Bikes</td><td>Road Bikes</td><td>Road-650 Red- 60</td></tr>",
                            "<tr><td>Bikes</td><td>Road Bikes</td><td>Road-650 Red- 62</td></tr>",
                            "<tr><td>Bikes</td><td>Road Bikes</td><td>Road-750 Black- 44</td></tr>",
                            "<tr><td>Bikes</td><td>Road Bikes</td><td>Road-750 Black- 48</td></tr>",
                            "<tr><td>Bikes</td><td>Road Bikes</td><td>Road-750 Black- 52</td></tr>",
                            "<tr><td>Bikes</td><td>Road Bikes</td><td>Road-750 Black- 58</td></tr>",
                            "<tr><td>Bikes</td><td>Touring Bikes</td><td>Touring-1000 Blue- 46</td></tr>",
                            "<tr><td>Bikes</td><td>Touring Bikes</td><td>Touring-1000 Blue- 50</td></tr>",
                            "<tr><td>Bikes</td><td>Touring Bikes</td><td>Touring-1000 Blue- 54</td></tr>",
                            "<tr><td>Bikes</td><td>Touring Bikes</td><td>Touring-1000 Blue- 60</td></tr>",
                            "<tr><td>Bikes</td><td>Touring Bikes</td><td>Touring-1000 Yellow- 46</td></tr>",
                            "<tr><td>Bikes</td><td>Touring Bikes</td><td>Touring-1000 Yellow- 50</td></tr>",
                            "<tr><td>Bikes</td><td>Touring Bikes</td><td>Touring-1000 Yellow- 54</td></tr>",
                            "<tr><td>Bikes</td><td>Touring Bikes</td><td>Touring-1000 Yellow- 60</td></tr>",
                            "<tr><td>Bikes</td><td>Touring Bikes</td><td>Touring-2000 Blue- 46</td></tr>",
                            "<tr><td>Bikes</td><td>Touring Bikes</td><td>Touring-2000 Blue- 50</td></tr>",
                            "<tr><td>Bikes</td><td>Touring Bikes</td><td>Touring-2000 Blue- 54</td></tr>",
                            "<tr><td>Bikes</td><td>Touring Bikes</td><td>Touring-2000 Blue- 60</td></tr>",
                            "<tr><td>Bikes</td><td>Touring Bikes</td><td>Touring-3000 Blue- 44</td></tr>",
                            "<tr><td>Bikes</td><td>Touring Bikes</td><td>Touring-3000 Blue- 50</td></tr>",
                            "<tr><td>Bikes</td><td>Touring Bikes</td><td>Touring-3000 Blue- 54</td></tr>",
                            "<tr><td>Bikes</td><td>Touring Bikes</td><td>Touring-3000 Blue- 58</td></tr>",
                            "<tr><td>Bikes</td><td>Touring Bikes</td><td>Touring-3000 Blue- 62</td></tr>",
                            "<tr><td>Bikes</td><td>Touring Bikes</td><td>Touring-3000 Yellow- 44</td></tr>",
                            "<tr><td>Bikes</td><td>Touring Bikes</td><td>Touring-3000 Yellow- 50</td></tr>",
                            "<tr><td>Bikes</td><td>Touring Bikes</td><td>Touring-3000 Yellow- 54</td></tr>",
                            "<tr><td>Bikes</td><td>Touring Bikes</td><td>Touring-3000 Yellow- 58</td></tr>",
                            "<tr><td>Bikes</td><td>Touring Bikes</td><td>Touring-3000 Yellow- 62</td></tr>",
                            "<tr><td>Clothing</td><td>Bib-Shorts</td><td>Men&#39;s Bib-Shorts- L</td></tr>",
                            "<tr><td>Clothing</td><td>Bib-Shorts</td><td>Men&#39;s Bib-Shorts- M</td></tr>",
                            "<tr><td>Clothing</td><td>Bib-Shorts</td><td>Men&#39;s Bib-Shorts- S</td></tr>",
                            "<tr><td>Clothing</td><td>Caps</td><td>AWC Logo Cap</td></tr>",
                            "<tr><td>Clothing</td><td>Gloves</td><td>Full-Finger Gloves- L</td></tr>",
                            "<tr><td>Clothing</td><td>Gloves</td><td>Full-Finger Gloves- M</td></tr>",
                            "<tr><td>Clothing</td><td>Gloves</td><td>Full-Finger Gloves- S</td></tr>",
                            "<tr><td>Clothing</td><td>Gloves</td><td>Half-Finger Gloves- L</td></tr>",
                            "<tr><td>Clothing</td><td>Gloves</td><td>Half-Finger Gloves- M</td></tr>",
                            "<tr><td>Clothing</td><td>Gloves</td><td>Half-Finger Gloves- S</td></tr>",
                            "<tr><td>Clothing</td><td>Jerseys</td><td>Long-Sleeve Logo Jersey- L</td></tr>",
                            "<tr><td>Clothing</td><td>Jerseys</td><td>Long-Sleeve Logo Jersey- M</td></tr>",
                            "<tr><td>Clothing</td><td>Jerseys</td><td>Long-Sleeve Logo Jersey- S</td></tr>",
                            "<tr><td>Clothing</td><td>Jerseys</td><td>Long-Sleeve Logo Jersey- XL</td></tr>",
                            "<tr><td>Clothing</td><td>Jerseys</td><td>Short-Sleeve Classic Jersey- L</td></tr>",
                            "<tr><td>Clothing</td><td>Jerseys</td><td>Short-Sleeve Classic Jersey- M</td></tr>",
                            "<tr><td>Clothing</td><td>Jerseys</td><td>Short-Sleeve Classic Jersey- S</td></tr>",
                            "<tr><td>Clothing</td><td>Jerseys</td><td>Short-Sleeve Classic Jersey- XL</td></tr>",
                            "<tr><td>Clothing</td><td>Shorts</td><td>Men&#39;s Sports Shorts- L</td></tr>",
                            "<tr><td>Clothing</td><td>Shorts</td><td>Men&#39;s Sports Shorts- M</td></tr>",
                            "<tr><td>Clothing</td><td>Shorts</td><td>Men&#39;s Sports Shorts- S</td></tr>",
                            "<tr><td>Clothing</td><td>Shorts</td><td>Men&#39;s Sports Shorts- XL</td></tr>",
                            "<tr><td>Clothing</td><td>Shorts</td><td>Women&#39;s Mountain Shorts- L</td></tr>",
                            "<tr><td>Clothing</td><td>Shorts</td><td>Women&#39;s Mountain Shorts- M</td></tr>",
                            "<tr><td>Clothing</td><td>Shorts</td><td>Women&#39;s Mountain Shorts- S</td></tr>",
                            "<tr><td>Clothing</td><td>Socks</td><td>Mountain Bike Socks- L</td></tr>",
                            "<tr><td>Clothing</td><td>Socks</td><td>Mountain Bike Socks- M</td></tr>",
                            "<tr><td>Clothing</td><td>Socks</td><td>Racing Socks- L</td></tr>",
                            "<tr><td>Clothing</td><td>Socks</td><td>Racing Socks- M</td></tr>",
                            "<tr><td>Clothing</td><td>Tights</td><td>Women&#39;s Tights- L</td></tr>",
                            "<tr><td>Clothing</td><td>Tights</td><td>Women&#39;s Tights- M</td></tr>",
                            "<tr><td>Clothing</td><td>Tights</td><td>Women&#39;s Tights- S</td></tr>",
                            "<tr><td>Clothing</td><td>Vests</td><td>Classic Vest- L</td></tr>",
                            "<tr><td>Clothing</td><td>Vests</td><td>Classic Vest- M</td></tr>",
                            "<tr><td>Clothing</td><td>Vests</td><td>Classic Vest- S</td></tr>",
                            "<tr><td>Components</td><td>Bottom Brackets</td><td>HL Bottom Bracket</td></tr>",
                            "<tr><td>Components</td><td>Bottom Brackets</td><td>LL Bottom Bracket</td></tr>",
                            "<tr><td>Components</td><td>Bottom Brackets</td><td>ML Bottom Bracket</td></tr>",
                            "<tr><td>Components</td><td>Brakes</td><td>Front Brakes</td></tr>",
                            "<tr><td>Components</td><td>Brakes</td><td>Rear Brakes</td></tr>",
                            "<tr><td>Components</td><td>Chains</td><td>Chain</td></tr>",
                            "<tr><td>Components</td><td>Cranksets</td><td>HL Crankset</td></tr>",
                            "<tr><td>Components</td><td>Cranksets</td><td>LL Crankset</td></tr>",
                            "<tr><td>Components</td><td>Cranksets</td><td>ML Crankset</td></tr>",
                            "<tr><td>Components</td><td>Derailleurs</td><td>Front Derailleur</td></tr>",
                            "<tr><td>Components</td><td>Derailleurs</td><td>Rear Derailleur</td></tr>",
                            "<tr><td>Components</td><td>Forks</td><td>HL Fork</td></tr>",
                            "<tr><td>Components</td><td>Forks</td><td>LL Fork</td></tr>",
                            "<tr><td>Components</td><td>Forks</td><td>ML Fork</td></tr>",
                            "<tr><td>Components</td><td>Handlebars</td><td>HL Mountain Handlebars</td></tr>",
                            "<tr><td>Components</td><td>Handlebars</td><td>HL Road Handlebars</td></tr>",
                            "<tr><td>Components</td><td>Handlebars</td><td>HL Touring Handlebars</td></tr>",
                            "<tr><td>Components</td><td>Handlebars</td><td>LL Mountain Handlebars</td></tr>",
                            "<tr><td>Components</td><td>Handlebars</td><td>LL Road Handlebars</td></tr>",
                            "<tr><td>Components</td><td>Handlebars</td><td>LL Touring Handlebars</td></tr>",
                            "<tr><td>Components</td><td>Handlebars</td><td>ML Mountain Handlebars</td></tr>",
                            "<tr><td>Components</td><td>Handlebars</td><td>ML Road Handlebars</td></tr>",
                            "<tr><td>Components</td><td>Headsets</td><td>HL Headset</td></tr>",
                            "<tr><td>Components</td><td>Headsets</td><td>LL Headset</td></tr>",
                            "<tr><td>Components</td><td>Headsets</td><td>ML Headset</td></tr>",
                            "<tr><td>Components</td><td>Mountain Frames</td><td>HL Mountain Frame - Black- 38</td></tr>",
                            "<tr><td>Components</td><td>Mountain Frames</td><td>HL Mountain Frame - Black- 42</td></tr>",
                            "<tr><td>Components</td><td>Mountain Frames</td><td>HL Mountain Frame - Black- 44</td></tr>",
                            "<tr><td>Components</td><td>Mountain Frames</td><td>HL Mountain Frame - Black- 46</td></tr>",
                            "<tr><td>Components</td><td>Mountain Frames</td><td>HL Mountain Frame - Black- 48</td></tr>",
                            "<tr><td>Components</td><td>Mountain Frames</td><td>HL Mountain Frame - Silver- 38</td></tr>",
                            "<tr><td>Components</td><td>Mountain Frames</td><td>HL Mountain Frame - Silver- 42</td></tr>",
                            "<tr><td>Components</td><td>Mountain Frames</td><td>HL Mountain Frame - Silver- 44</td></tr>",
                            "<tr><td>Components</td><td>Mountain Frames</td><td>HL Mountain Frame - Silver- 46</td></tr>",
                            "<tr><td>Components</td><td>Mountain Frames</td><td>HL Mountain Frame - Silver- 48</td></tr>",
                            "<tr><td>Components</td><td>Mountain Frames</td><td>LL Mountain Frame - Black- 40</td></tr>",
                            "<tr><td>Components</td><td>Mountain Frames</td><td>LL Mountain Frame - Black- 42</td></tr>",
                            "<tr><td>Components</td><td>Mountain Frames</td><td>LL Mountain Frame - Black- 44</td></tr>",
                            "<tr><td>Components</td><td>Mountain Frames</td><td>LL Mountain Frame - Black- 48</td></tr>",
                            "<tr><td>Components</td><td>Mountain Frames</td><td>LL Mountain Frame - Black- 52</td></tr>",
                            "<tr><td>Components</td><td>Mountain Frames</td><td>LL Mountain Frame - Silver- 40</td></tr>",
                            "<tr><td>Components</td><td>Mountain Frames</td><td>LL Mountain Frame - Silver- 42</td></tr>",
                            "<tr><td>Components</td><td>Mountain Frames</td><td>LL Mountain Frame - Silver- 44</td></tr>",
                            "<tr><td>Components</td><td>Mountain Frames</td><td>LL Mountain Frame - Silver- 48</td></tr>",
                            "<tr><td>Components</td><td>Mountain Frames</td><td>LL Mountain Frame - Silver- 52</td></tr>",
                            "<tr><td>Components</td><td>Mountain Frames</td><td>ML Mountain Frame - Black- 38</td></tr>",
                            "<tr><td>Components</td><td>Mountain Frames</td><td>ML Mountain Frame - Black- 40</td></tr>",
                            "<tr><td>Components</td><td>Mountain Frames</td><td>ML Mountain Frame - Black- 44</td></tr>",
                            "<tr><td>Components</td><td>Mountain Frames</td><td>ML Mountain Frame - Black- 48</td></tr>",
                            "<tr><td>Components</td><td>Mountain Frames</td><td>ML Mountain Frame-W - Silver- 38</td></tr>",
                            "<tr><td>Components</td><td>Mountain Frames</td><td>ML Mountain Frame-W - Silver- 40</td></tr>",
                            "<tr><td>Components</td><td>Mountain Frames</td><td>ML Mountain Frame-W - Silver- 42</td></tr>",
                            "<tr><td>Components</td><td>Mountain Frames</td><td>ML Mountain Frame-W - Silver- 46</td></tr>",
                            "<tr><td>Components</td><td>Road Frames</td><td>HL Road Frame - Black- 44</td></tr>",
                            "<tr><td>Components</td><td>Road Frames</td><td>HL Road Frame - Black- 48</td></tr>",
                            "<tr><td>Components</td><td>Road Frames</td><td>HL Road Frame - Black- 52</td></tr>",
                            "<tr><td>Components</td><td>Road Frames</td><td>HL Road Frame - Black- 58</td></tr>",
                            "<tr><td>Components</td><td>Road Frames</td><td>HL Road Frame - Black- 62</td></tr>",
                            "<tr><td>Components</td><td>Road Frames</td><td>HL Road Frame - Red- 44</td></tr>",
                            "<tr><td>Components</td><td>Road Frames</td><td>HL Road Frame - Red- 48</td></tr>",
                            "<tr><td>Components</td><td>Road Frames</td><td>HL Road Frame - Red- 52</td></tr>",
                            "<tr><td>Components</td><td>Road Frames</td><td>HL Road Frame - Red- 56</td></tr>",
                            "<tr><td>Components</td><td>Road Frames</td><td>HL Road Frame - Red- 58</td></tr>",
                            "<tr><td>Components</td><td>Road Frames</td><td>HL Road Frame - Red- 62</td></tr>",
                            "<tr><td>Components</td><td>Road Frames</td><td>LL Road Frame - Black- 44</td></tr>",
                            "<tr><td>Components</td><td>Road Frames</td><td>LL Road Frame - Black- 48</td></tr>",
                            "<tr><td>Components</td><td>Road Frames</td><td>LL Road Frame - Black- 52</td></tr>",
                            "<tr><td>Components</td><td>Road Frames</td><td>LL Road Frame - Black- 58</td></tr>",
                            "<tr><td>Components</td><td>Road Frames</td><td>LL Road Frame - Black- 60</td></tr>",
                            "<tr><td>Components</td><td>Road Frames</td><td>LL Road Frame - Black- 62</td></tr>",
                            "<tr><td>Components</td><td>Road Frames</td><td>LL Road Frame - Red- 44</td></tr>",
                            "<tr><td>Components</td><td>Road Frames</td><td>LL Road Frame - Red- 48</td></tr>",
                            "<tr><td>Components</td><td>Road Frames</td><td>LL Road Frame - Red- 52</td></tr>",
                            "<tr><td>Components</td><td>Road Frames</td><td>LL Road Frame - Red- 58</td></tr>",
                            "<tr><td>Components</td><td>Road Frames</td><td>LL Road Frame - Red- 60</td></tr>",
                            "<tr><td>Components</td><td>Road Frames</td><td>LL Road Frame - Red- 62</td></tr>",
                            "<tr><td>Components</td><td>Road Frames</td><td>ML Road Frame - Red- 44</td></tr>",
                            "<tr><td>Components</td><td>Road Frames</td><td>ML Road Frame - Red- 48</td></tr>",
                            "<tr><td>Components</td><td>Road Frames</td><td>ML Road Frame - Red- 52</td></tr>",
                            "<tr><td>Components</td><td>Road Frames</td><td>ML Road Frame - Red- 58</td></tr>",
                            "<tr><td>Components</td><td>Road Frames</td><td>ML Road Frame - Red- 60</td></tr>",
                            "<tr><td>Components</td><td>Road Frames</td><td>ML Road Frame-W - Yellow- 38</td></tr>",
                            "<tr><td>Components</td><td>Road Frames</td><td>ML Road Frame-W - Yellow- 40</td></tr>",
                            "<tr><td>Components</td><td>Road Frames</td><td>ML Road Frame-W - Yellow- 42</td></tr>",
                            "<tr><td>Components</td><td>Road Frames</td><td>ML Road Frame-W - Yellow- 44</td></tr>",
                            "<tr><td>Components</td><td>Road Frames</td><td>ML Road Frame-W - Yellow- 48</td></tr>",
                            "<tr><td>Components</td><td>Saddles</td><td>HL Mountain Seat/Saddle</td></tr>",
                            "<tr><td>Components</td><td>Saddles</td><td>HL Road Seat/Saddle</td></tr>",
                            "<tr><td>Components</td><td>Saddles</td><td>HL Touring Seat/Saddle</td></tr>",
                            "<tr><td>Components</td><td>Saddles</td><td>LL Mountain Seat/Saddle</td></tr>",
                            "<tr><td>Components</td><td>Saddles</td><td>LL Road Seat/Saddle</td></tr>",
                            "<tr><td>Components</td><td>Saddles</td><td>LL Touring Seat/Saddle</td></tr>",
                            "<tr><td>Components</td><td>Saddles</td><td>ML Mountain Seat/Saddle</td></tr>",
                            "<tr><td>Components</td><td>Saddles</td><td>ML Road Seat/Saddle</td></tr>",
                            "<tr><td>Components</td><td>Saddles</td><td>ML Touring Seat/Saddle</td></tr>",
                            "<tr><td>Components</td><td>Touring Frames</td><td>HL Touring Frame - Blue- 46</td></tr>",
                            "<tr><td>Components</td><td>Touring Frames</td><td>HL Touring Frame - Blue- 50</td></tr>",
                            "<tr><td>Components</td><td>Touring Frames</td><td>HL Touring Frame - Blue- 54</td></tr>",
                            "<tr><td>Components</td><td>Touring Frames</td><td>HL Touring Frame - Blue- 60</td></tr>",
                            "<tr><td>Components</td><td>Touring Frames</td><td>HL Touring Frame - Yellow- 46</td></tr>",
                            "<tr><td>Components</td><td>Touring Frames</td><td>HL Touring Frame - Yellow- 50</td></tr>",
                            "<tr><td>Components</td><td>Touring Frames</td><td>HL Touring Frame - Yellow- 54</td></tr>",
                            "<tr><td>Components</td><td>Touring Frames</td><td>HL Touring Frame - Yellow- 60</td></tr>",
                            "<tr><td>Components</td><td>Touring Frames</td><td>LL Touring Frame - Blue- 44</td></tr>",
                            "<tr><td>Components</td><td>Touring Frames</td><td>LL Touring Frame - Blue- 50</td></tr>",
                            "<tr><td>Components</td><td>Touring Frames</td><td>LL Touring Frame - Blue- 54</td></tr>",
                            "<tr><td>Components</td><td>Touring Frames</td><td>LL Touring Frame - Blue- 58</td></tr>",
                            "<tr><td>Components</td><td>Touring Frames</td><td>LL Touring Frame - Blue- 62</td></tr>",
                            "<tr><td>Components</td><td>Touring Frames</td><td>LL Touring Frame - Yellow- 44</td></tr>",
                            "<tr><td>Components</td><td>Touring Frames</td><td>LL Touring Frame - Yellow- 50</td></tr>",
                            "<tr><td>Components</td><td>Touring Frames</td><td>LL Touring Frame - Yellow- 54</td></tr>",
                            "<tr><td>Components</td><td>Touring Frames</td><td>LL Touring Frame - Yellow- 58</td></tr>",
                            "<tr><td>Components</td><td>Touring Frames</td><td>LL Touring Frame - Yellow- 62</td></tr>",
                            "<tr><td>Components</td><td>Wheels</td><td>HL Mountain Front Wheel</td></tr>",
                            "<tr><td>Components</td><td>Wheels</td><td>HL Mountain Rear Wheel</td></tr>",
                            "<tr><td>Components</td><td>Wheels</td><td>HL Road Front Wheel</td></tr>",
                            "<tr><td>Components</td><td>Wheels</td><td>HL Road Rear Wheel</td></tr>",
                            "<tr><td>Components</td><td>Wheels</td><td>LL Mountain Front Wheel</td></tr>",
                            "<tr><td>Components</td><td>Wheels</td><td>LL Mountain Rear Wheel</td></tr>",
                            "<tr><td>Components</td><td>Wheels</td><td>LL Road Front Wheel</td></tr>",
                            "<tr><td>Components</td><td>Wheels</td><td>LL Road Rear Wheel</td></tr>",
                            "<tr><td>Components</td><td>Wheels</td><td>ML Mountain Front Wheel</td></tr>",
                            "<tr><td>Components</td><td>Wheels</td><td>ML Mountain Rear Wheel</td></tr>",
                            "<tr><td>Components</td><td>Wheels</td><td>ML Road Front Wheel</td></tr>",
                            "<tr><td>Components</td><td>Wheels</td><td>ML Road Rear Wheel</td></tr>",
                            "<tr><td>Components</td><td>Wheels</td><td>Touring Front Wheel</td></tr>",
                            "<tr><td>Components</td><td>Wheels</td><td>Touring Rear Wheel</td></tr>",
                            "</table>"
                        ]
                    }
                }
            ],
            "execution_count": 5
        }
    ]
}