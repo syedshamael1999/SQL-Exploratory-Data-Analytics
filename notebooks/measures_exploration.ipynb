{
    "metadata": {
        "kernelspec": {
            "name": "SQL",
            "display_name": "SQL",
            "language": "sql"
        },
        "language_info": {
            "name": "sql",
            "version": ""
        }
    },
    "nbformat_minor": 2,
    "nbformat": 4,
    "cells": [
        {
            "cell_type": "code",
            "source": [
                "/*\r\n",
                "===============================================================================\r\n",
                "04 Measures Exploration (Key Metrics)\r\n",
                "===============================================================================\r\n",
                "Purpose:\r\n",
                "    - To calculate aggregated metrics (e.g., totals, averages) for quick insights.\r\n",
                "    - To identify overall trends or spot anomalies.\r\n",
                "\r\n",
                "SQL Functions Used:\r\n",
                "    - COUNT(), SUM(), AVG()\r\n",
                "===============================================================================\r\n",
                "*/"
            ],
            "metadata": {
                "azdata_cell_guid": "f14ed2d2-eb81-4b1e-920c-2e82994465f9",
                "language": "sql"
            },
            "outputs": [],
            "execution_count": null
        },
        {
            "cell_type": "code",
            "source": [
                "-- Generate a Report that shows all key metrics of the business\r\n",
                "SELECT 'Total Sales' AS measure_name, SUM(sales_amount) AS measure_value FROM gold.fact_sales\r\n",
                "UNION ALL\r\n",
                "SELECT 'Total Quantity', SUM(quantity) FROM gold.fact_sales\r\n",
                "UNION ALL\r\n",
                "SELECT 'Average Price', AVG(price) FROM gold.fact_sales\r\n",
                "UNION ALL\r\n",
                "SELECT 'Total Orders', COUNT(DISTINCT order_number) FROM gold.fact_sales\r\n",
                "UNION ALL\r\n",
                "SELECT 'Total Products', COUNT(DISTINCT product_name) FROM gold.dim_products\r\n",
                "UNION ALL\r\n",
                "SELECT 'Total Customers', COUNT(customer_key) FROM gold.dim_customers;"
            ],
            "metadata": {
                "language": "sql",
                "azdata_cell_guid": "6d3274eb-cd57-400e-99ab-2ad56edd5172"
            },
            "outputs": [
                {
                    "output_type": "display_data",
                    "data": {
                        "text/html": "(6 rows affected)"
                    },
                    "metadata": {}
                },
                {
                    "output_type": "display_data",
                    "data": {
                        "text/html": "Total execution time: 00:00:00.592"
                    },
                    "metadata": {}
                },
                {
                    "output_type": "execute_result",
                    "metadata": {},
                    "execution_count": 1,
                    "data": {
                        "application/vnd.dataresource+json": {
                            "schema": {
                                "fields": [
                                    {
                                        "name": "measure_name"
                                    },
                                    {
                                        "name": "measure_value"
                                    }
                                ]
                            },
                            "data": [
                                {
                                    "measure_name": "Total Sales",
                                    "measure_value": "29356250"
                                },
                                {
                                    "measure_name": "Total Quantity",
                                    "measure_value": "60423"
                                },
                                {
                                    "measure_name": "Average Price",
                                    "measure_value": "486"
                                },
                                {
                                    "measure_name": "Total Orders",
                                    "measure_value": "27659"
                                },
                                {
                                    "measure_name": "Total Products",
                                    "measure_value": "295"
                                },
                                {
                                    "measure_name": "Total Customers",
                                    "measure_value": "18484"
                                }
                            ]
                        },
                        "text/html": [
                            "<table>",
                            "<tr><th>measure_name</th><th>measure_value</th></tr>",
                            "<tr><td>Total Sales</td><td>29356250</td></tr>",
                            "<tr><td>Total Quantity</td><td>60423</td></tr>",
                            "<tr><td>Average Price</td><td>486</td></tr>",
                            "<tr><td>Total Orders</td><td>27659</td></tr>",
                            "<tr><td>Total Products</td><td>295</td></tr>",
                            "<tr><td>Total Customers</td><td>18484</td></tr>",
                            "</table>"
                        ]
                    }
                }
            ],
            "execution_count": 1
        }
    ]
}