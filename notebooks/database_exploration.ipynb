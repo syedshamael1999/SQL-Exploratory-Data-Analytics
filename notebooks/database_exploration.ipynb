{
    "metadata": {
        "kernelspec": {
            "name": "SQL",
            "display_name": "SQL",
            "language": "sql"
        },
        "language_info": {
            "name": "sql",
            "version": ""
        }
    },
    "nbformat_minor": 2,
    "nbformat": 4,
    "cells": [
        {
            "cell_type": "code",
            "source": [
                "/*\r\n",
                "===============================================================================\r\n",
                "01. Database Exploration\r\n",
                "===============================================================================\r\n",
                "Purpose:\r\n",
                "    - To explore the structure of the database, including the list of tables and their schemas.\r\n",
                "    - To inspect the columns and metadata for specific tables.\r\n",
                "\r\n",
                "Table Used:\r\n",
                "    - INFORMATION_SCHEMA.TABLES\r\n",
                "    - INFORMATION_SCHEMA.COLUMNS\r\n",
                "===============================================================================\r\n",
                "*/\r\n",
                "\r\n",
                ""
            ],
            "metadata": {
                "azdata_cell_guid": "1e603762-c91f-4a11-980f-8ad3fe205a5c",
                "language": "sql"
            },
            "outputs": [],
            "execution_count": null
        },
        {
            "cell_type": "code",
            "source": [
                "-- Retrieve a list of all tables in the database\r\n",
                "SELECT \r\n",
                "      TABLE_CATALOG,\r\n",
                "\t  TABLE_SCHEMA,\r\n",
                "\t  TABLE_NAME,\r\n",
                "\t  TABLE_TYPE\r\n",
                "FROM INFORMATION_SCHEMA.TABLES;\r\n",
                "\r\n",
                "\r\n",
                ""
            ],
            "metadata": {
                "azdata_cell_guid": "3dc6b8c5-4d9f-462a-9df1-379a04752838",
                "language": "sql"
            },
            "outputs": [
                {
                    "output_type": "display_data",
                    "data": {
                        "text/html": "(15 rows affected)"
                    },
                    "metadata": {}
                },
                {
                    "output_type": "display_data",
                    "data": {
                        "text/html": "Total execution time: 00:00:00.518"
                    },
                    "metadata": {}
                },
                {
                    "output_type": "execute_result",
                    "metadata": {},
                    "execution_count": 3,
                    "data": {
                        "application/vnd.dataresource+json": {
                            "schema": {
                                "fields": [
                                    {
                                        "name": "TABLE_CATALOG"
                                    },
                                    {
                                        "name": "TABLE_SCHEMA"
                                    },
                                    {
                                        "name": "TABLE_NAME"
                                    },
                                    {
                                        "name": "TABLE_TYPE"
                                    }
                                ]
                            },
                            "data": [
                                {
                                    "TABLE_CATALOG": "DataWarehouse",
                                    "TABLE_SCHEMA": "gold",
                                    "TABLE_NAME": "dim_customers",
                                    "TABLE_TYPE": "VIEW"
                                },
                                {
                                    "TABLE_CATALOG": "DataWarehouse",
                                    "TABLE_SCHEMA": "gold",
                                    "TABLE_NAME": "dim_products",
                                    "TABLE_TYPE": "VIEW"
                                },
                                {
                                    "TABLE_CATALOG": "DataWarehouse",
                                    "TABLE_SCHEMA": "gold",
                                    "TABLE_NAME": "fact_sales",
                                    "TABLE_TYPE": "VIEW"
                                },
                                {
                                    "TABLE_CATALOG": "DataWarehouse",
                                    "TABLE_SCHEMA": "bronze",
                                    "TABLE_NAME": "crm_cust_info",
                                    "TABLE_TYPE": "BASE TABLE"
                                },
                                {
                                    "TABLE_CATALOG": "DataWarehouse",
                                    "TABLE_SCHEMA": "bronze",
                                    "TABLE_NAME": "crm_prd_info",
                                    "TABLE_TYPE": "BASE TABLE"
                                },
                                {
                                    "TABLE_CATALOG": "DataWarehouse",
                                    "TABLE_SCHEMA": "bronze",
                                    "TABLE_NAME": "crm_sales_details",
                                    "TABLE_TYPE": "BASE TABLE"
                                },
                                {
                                    "TABLE_CATALOG": "DataWarehouse",
                                    "TABLE_SCHEMA": "bronze",
                                    "TABLE_NAME": "erp_loc_a101",
                                    "TABLE_TYPE": "BASE TABLE"
                                },
                                {
                                    "TABLE_CATALOG": "DataWarehouse",
                                    "TABLE_SCHEMA": "bronze",
                                    "TABLE_NAME": "erp_cust_az12",
                                    "TABLE_TYPE": "BASE TABLE"
                                },
                                {
                                    "TABLE_CATALOG": "DataWarehouse",
                                    "TABLE_SCHEMA": "bronze",
                                    "TABLE_NAME": "erp_px_cat_g1v2",
                                    "TABLE_TYPE": "BASE TABLE"
                                },
                                {
                                    "TABLE_CATALOG": "DataWarehouse",
                                    "TABLE_SCHEMA": "silver",
                                    "TABLE_NAME": "crm_cust_info",
                                    "TABLE_TYPE": "BASE TABLE"
                                },
                                {
                                    "TABLE_CATALOG": "DataWarehouse",
                                    "TABLE_SCHEMA": "silver",
                                    "TABLE_NAME": "crm_prd_info",
                                    "TABLE_TYPE": "BASE TABLE"
                                },
                                {
                                    "TABLE_CATALOG": "DataWarehouse",
                                    "TABLE_SCHEMA": "silver",
                                    "TABLE_NAME": "crm_sales_details",
                                    "TABLE_TYPE": "BASE TABLE"
                                },
                                {
                                    "TABLE_CATALOG": "DataWarehouse",
                                    "TABLE_SCHEMA": "silver",
                                    "TABLE_NAME": "erp_loc_a101",
                                    "TABLE_TYPE": "BASE TABLE"
                                },
                                {
                                    "TABLE_CATALOG": "DataWarehouse",
                                    "TABLE_SCHEMA": "silver",
                                    "TABLE_NAME": "erp_cust_az12",
                                    "TABLE_TYPE": "BASE TABLE"
                                },
                                {
                                    "TABLE_CATALOG": "DataWarehouse",
                                    "TABLE_SCHEMA": "silver",
                                    "TABLE_NAME": "erp_px_cat_g1v2",
                                    "TABLE_TYPE": "BASE TABLE"
                                }
                            ]
                        },
                        "text/html": [
                            "<table>",
                            "<tr><th>TABLE_CATALOG</th><th>TABLE_SCHEMA</th><th>TABLE_NAME</th><th>TABLE_TYPE</th></tr>",
                            "<tr><td>DataWarehouse</td><td>gold</td><td>dim_customers</td><td>VIEW</td></tr>",
                            "<tr><td>DataWarehouse</td><td>gold</td><td>dim_products</td><td>VIEW</td></tr>",
                            "<tr><td>DataWarehouse</td><td>gold</td><td>fact_sales</td><td>VIEW</td></tr>",
                            "<tr><td>DataWarehouse</td><td>bronze</td><td>crm_cust_info</td><td>BASE TABLE</td></tr>",
                            "<tr><td>DataWarehouse</td><td>bronze</td><td>crm_prd_info</td><td>BASE TABLE</td></tr>",
                            "<tr><td>DataWarehouse</td><td>bronze</td><td>crm_sales_details</td><td>BASE TABLE</td></tr>",
                            "<tr><td>DataWarehouse</td><td>bronze</td><td>erp_loc_a101</td><td>BASE TABLE</td></tr>",
                            "<tr><td>DataWarehouse</td><td>bronze</td><td>erp_cust_az12</td><td>BASE TABLE</td></tr>",
                            "<tr><td>DataWarehouse</td><td>bronze</td><td>erp_px_cat_g1v2</td><td>BASE TABLE</td></tr>",
                            "<tr><td>DataWarehouse</td><td>silver</td><td>crm_cust_info</td><td>BASE TABLE</td></tr>",
                            "<tr><td>DataWarehouse</td><td>silver</td><td>crm_prd_info</td><td>BASE TABLE</td></tr>",
                            "<tr><td>DataWarehouse</td><td>silver</td><td>crm_sales_details</td><td>BASE TABLE</td></tr>",
                            "<tr><td>DataWarehouse</td><td>silver</td><td>erp_loc_a101</td><td>BASE TABLE</td></tr>",
                            "<tr><td>DataWarehouse</td><td>silver</td><td>erp_cust_az12</td><td>BASE TABLE</td></tr>",
                            "<tr><td>DataWarehouse</td><td>silver</td><td>erp_px_cat_g1v2</td><td>BASE TABLE</td></tr>",
                            "</table>"
                        ]
                    }
                }
            ],
            "execution_count": 3
        },
        {
            "cell_type": "code",
            "source": [
                "-- Retrieve all columns for a specific table (dim_customers)\r\n",
                "SELECT \r\n",
                "    COLUMN_NAME, \r\n",
                "    DATA_TYPE, \r\n",
                "    IS_NULLABLE, \r\n",
                "    CHARACTER_MAXIMUM_LENGTH\r\n",
                "FROM INFORMATION_SCHEMA.COLUMNS\r\n",
                "WHERE TABLE_NAME = 'dim_customers';"
            ],
            "metadata": {
                "azdata_cell_guid": "0174643b-ac12-4deb-9cdb-48d122809f4c",
                "language": "sql"
            },
            "outputs": [
                {
                    "output_type": "display_data",
                    "data": {
                        "text/html": "(10 rows affected)"
                    },
                    "metadata": {}
                },
                {
                    "output_type": "display_data",
                    "data": {
                        "text/html": "Total execution time: 00:00:10.255"
                    },
                    "metadata": {}
                },
                {
                    "output_type": "execute_result",
                    "metadata": {},
                    "execution_count": 4,
                    "data": {
                        "application/vnd.dataresource+json": {
                            "schema": {
                                "fields": [
                                    {
                                        "name": "COLUMN_NAME"
                                    },
                                    {
                                        "name": "DATA_TYPE"
                                    },
                                    {
                                        "name": "IS_NULLABLE"
                                    },
                                    {
                                        "name": "CHARACTER_MAXIMUM_LENGTH"
                                    }
                                ]
                            },
                            "data": [
                                {
                                    "COLUMN_NAME": "customer_key",
                                    "DATA_TYPE": "bigint",
                                    "IS_NULLABLE": "YES",
                                    "CHARACTER_MAXIMUM_LENGTH": "NULL"
                                },
                                {
                                    "COLUMN_NAME": "customer_id",
                                    "DATA_TYPE": "int",
                                    "IS_NULLABLE": "YES",
                                    "CHARACTER_MAXIMUM_LENGTH": "NULL"
                                },
                                {
                                    "COLUMN_NAME": "customer_number",
                                    "DATA_TYPE": "nvarchar",
                                    "IS_NULLABLE": "YES",
                                    "CHARACTER_MAXIMUM_LENGTH": "50"
                                },
                                {
                                    "COLUMN_NAME": "first_name",
                                    "DATA_TYPE": "nvarchar",
                                    "IS_NULLABLE": "YES",
                                    "CHARACTER_MAXIMUM_LENGTH": "50"
                                },
                                {
                                    "COLUMN_NAME": "last_name",
                                    "DATA_TYPE": "nvarchar",
                                    "IS_NULLABLE": "YES",
                                    "CHARACTER_MAXIMUM_LENGTH": "50"
                                },
                                {
                                    "COLUMN_NAME": "country",
                                    "DATA_TYPE": "nvarchar",
                                    "IS_NULLABLE": "YES",
                                    "CHARACTER_MAXIMUM_LENGTH": "50"
                                },
                                {
                                    "COLUMN_NAME": "marital_status",
                                    "DATA_TYPE": "nvarchar",
                                    "IS_NULLABLE": "YES",
                                    "CHARACTER_MAXIMUM_LENGTH": "50"
                                },
                                {
                                    "COLUMN_NAME": "gender",
                                    "DATA_TYPE": "nvarchar",
                                    "IS_NULLABLE": "YES",
                                    "CHARACTER_MAXIMUM_LENGTH": "50"
                                },
                                {
                                    "COLUMN_NAME": "birthdate",
                                    "DATA_TYPE": "date",
                                    "IS_NULLABLE": "YES",
                                    "CHARACTER_MAXIMUM_LENGTH": "NULL"
                                },
                                {
                                    "COLUMN_NAME": "create_date",
                                    "DATA_TYPE": "date",
                                    "IS_NULLABLE": "YES",
                                    "CHARACTER_MAXIMUM_LENGTH": "NULL"
                                }
                            ]
                        },
                        "text/html": [
                            "<table>",
                            "<tr><th>COLUMN_NAME</th><th>DATA_TYPE</th><th>IS_NULLABLE</th><th>CHARACTER_MAXIMUM_LENGTH</th></tr>",
                            "<tr><td>customer_key</td><td>bigint</td><td>YES</td><td>NULL</td></tr>",
                            "<tr><td>customer_id</td><td>int</td><td>YES</td><td>NULL</td></tr>",
                            "<tr><td>customer_number</td><td>nvarchar</td><td>YES</td><td>50</td></tr>",
                            "<tr><td>first_name</td><td>nvarchar</td><td>YES</td><td>50</td></tr>",
                            "<tr><td>last_name</td><td>nvarchar</td><td>YES</td><td>50</td></tr>",
                            "<tr><td>country</td><td>nvarchar</td><td>YES</td><td>50</td></tr>",
                            "<tr><td>marital_status</td><td>nvarchar</td><td>YES</td><td>50</td></tr>",
                            "<tr><td>gender</td><td>nvarchar</td><td>YES</td><td>50</td></tr>",
                            "<tr><td>birthdate</td><td>date</td><td>YES</td><td>NULL</td></tr>",
                            "<tr><td>create_date</td><td>date</td><td>YES</td><td>NULL</td></tr>",
                            "</table>"
                        ]
                    }
                }
            ],
            "execution_count": 4
        }
    ]
}