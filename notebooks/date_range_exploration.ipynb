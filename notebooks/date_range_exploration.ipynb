{
    "metadata": {
        "kernelspec": {
            "name": "SQL",
            "display_name": "SQL",
            "language": "sql"
        },
        "language_info": {
            "name": "sql",
            "version": ""
        }
    },
    "nbformat_minor": 2,
    "nbformat": 4,
    "cells": [
        {
            "cell_type": "code",
            "source": [
                "/*\r\n",
                "===============================================================================\r\n",
                "03 Date Range Exploration \r\n",
                "===============================================================================\r\n",
                "Purpose:\r\n",
                "    - To identify the earliest and latest dates (boundaries)\r\n",
                "    - To understand the scope of data and the timespan\r\n",
                "\r\n",
                "SQL Functions Used:\r\n",
                "    - MIN(), MAX(), DATEDIFF()\r\n",
                "===============================================================================\r\n",
                "*/"
            ],
            "metadata": {
                "azdata_cell_guid": "f148b60c-4175-43b3-8af5-a28d4f5fbda4",
                "language": "sql"
            },
            "outputs": [],
            "execution_count": null
        },
        {
            "cell_type": "code",
            "source": [
                "-- Determine the first and last order date and the total duration in months\r\n",
                "SELECT \r\n",
                "      MIN(order_date) AS first_order_date,\r\n",
                "\t  MAX(order_date) AS last_order_date,\r\n",
                "\t  DATEDIFF(MONTH, MIN(order_date), MAX(order_date)) AS order_range_months\r\n",
                "FROM gold.fact_sales;"
            ],
            "metadata": {
                "language": "sql",
                "azdata_cell_guid": "61056a5d-7bca-4bb9-8147-95f87a1ddb60"
            },
            "outputs": [
                {
                    "output_type": "display_data",
                    "data": {
                        "text/html": "Warning: Null value is eliminated by an aggregate or other SET operation."
                    },
                    "metadata": {}
                },
                {
                    "output_type": "display_data",
                    "data": {
                        "text/html": "(1 row affected)"
                    },
                    "metadata": {}
                },
                {
                    "output_type": "display_data",
                    "data": {
                        "text/html": "Total execution time: 00:00:00.598"
                    },
                    "metadata": {}
                },
                {
                    "output_type": "execute_result",
                    "metadata": {},
                    "execution_count": 1,
                    "data": {
                        "application/vnd.dataresource+json": {
                            "schema": {
                                "fields": [
                                    {
                                        "name": "first_order_date"
                                    },
                                    {
                                        "name": "last_order_date"
                                    },
                                    {
                                        "name": "order_range_months"
                                    }
                                ]
                            },
                            "data": [
                                {
                                    "first_order_date": "2010-12-29",
                                    "last_order_date": "2014-01-28",
                                    "order_range_months": "37"
                                }
                            ]
                        },
                        "text/html": [
                            "<table>",
                            "<tr><th>first_order_date</th><th>last_order_date</th><th>order_range_months</th></tr>",
                            "<tr><td>2010-12-29</td><td>2014-01-28</td><td>37</td></tr>",
                            "</table>"
                        ]
                    }
                }
            ],
            "execution_count": 1
        },
        {
            "cell_type": "code",
            "source": [
                "-- Find the youngest and oldest customer based on birthdate\r\n",
                "SELECT\r\n",
                "      MIN(birthdate) AS oldest_birthdate,\r\n",
                "      DATEDIFF(YEAR, MIN(birthdate), GETDATE()) AS oldest_age,\r\n",
                "      MAX(birthdate) AS youngest_birthdate,\r\n",
                "      DATEDIFF(YEAR, MAX(birthdate), GETDATE()) AS youngest_age\r\n",
                "FROM gold.dim_customers;"
            ],
            "metadata": {
                "language": "sql",
                "azdata_cell_guid": "d973e47b-1a0c-49b3-a16f-2afb57dc4974"
            },
            "outputs": [
                {
                    "output_type": "display_data",
                    "data": {
                        "text/html": "Warning: Null value is eliminated by an aggregate or other SET operation."
                    },
                    "metadata": {}
                },
                {
                    "output_type": "display_data",
                    "data": {
                        "text/html": "(1 row affected)"
                    },
                    "metadata": {}
                },
                {
                    "output_type": "display_data",
                    "data": {
                        "text/html": "Total execution time: 00:00:01.513"
                    },
                    "metadata": {}
                },
                {
                    "output_type": "execute_result",
                    "metadata": {},
                    "execution_count": 2,
                    "data": {
                        "application/vnd.dataresource+json": {
                            "schema": {
                                "fields": [
                                    {
                                        "name": "oldest_birthdate"
                                    },
                                    {
                                        "name": "oldest_age"
                                    },
                                    {
                                        "name": "youngest_birthdate"
                                    },
                                    {
                                        "name": "youngest_age"
                                    }
                                ]
                            },
                            "data": [
                                {
                                    "oldest_birthdate": "1916-02-10",
                                    "oldest_age": "109",
                                    "youngest_birthdate": "1986-06-25",
                                    "youngest_age": "39"
                                }
                            ]
                        },
                        "text/html": [
                            "<table>",
                            "<tr><th>oldest_birthdate</th><th>oldest_age</th><th>youngest_birthdate</th><th>youngest_age</th></tr>",
                            "<tr><td>1916-02-10</td><td>109</td><td>1986-06-25</td><td>39</td></tr>",
                            "</table>"
                        ]
                    }
                }
            ],
            "execution_count": 2
        }
    ]
}