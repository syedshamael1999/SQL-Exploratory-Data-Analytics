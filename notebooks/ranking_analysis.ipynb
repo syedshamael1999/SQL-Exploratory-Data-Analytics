{
    "metadata": {
        "kernelspec": {
            "name": "SQL",
            "display_name": "SQL",
            "language": "sql"
        },
        "language_info": {
            "name": "sql",
            "version": ""
        }
    },
    "nbformat_minor": 2,
    "nbformat": 4,
    "cells": [
        {
            "cell_type": "code",
            "source": [
                "/*\r\n",
                "===============================================================================\r\n",
                "06 Ranking Analysis\r\n",
                "===============================================================================\r\n",
                "Purpose:\r\n",
                "    - To rank items (e.g., products, customers) based on performance or other metrics.\r\n",
                "    - To identify top performers or laggards.\r\n",
                "\r\n",
                "SQL Functions Used:\r\n",
                "    - Window Ranking Functions: RANK(), DENSE_RANK(), ROW_NUMBER(), TOP\r\n",
                "    - Clauses: GROUP BY, ORDER BY\r\n",
                "===============================================================================\r\n",
                "*/"
            ],
            "metadata": {
                "azdata_cell_guid": "07c7f953-3f09-4582-8226-5b205c24e620",
                "language": "sql"
            },
            "outputs": [],
            "execution_count": null
        },
        {
            "cell_type": "code",
            "source": [
                "-- Which 5 products Generating the Highest Revenue?\r\n",
                "-- Simple Ranking\r\n",
                "\r\n",
                "SELECT TOP 5\r\n",
                "    p.product_name,\r\n",
                "    SUM(f.sales_amount) AS total_revenue\r\n",
                "FROM gold.fact_sales f\r\n",
                "LEFT JOIN gold.dim_products p\r\n",
                "    ON p.product_key = f.product_key\r\n",
                "GROUP BY p.product_name\r\n",
                "ORDER BY total_revenue DESC;\r\n",
                "\r\n",
                "-- Complex but Flexibly Ranking Using Window Functions\r\n",
                "SELECT*\r\n",
                "FROM(\r\n",
                "\t\tSELECT\r\n",
                "\t\t\tp.product_name,\r\n",
                "\t\t\tSUM(f.sales_amount) AS total_revenue,\r\n",
                "\t\t\tROW_NUMBER() OVER (ORDER BY SUM(f.sales_amount) DESC) AS rank_products\r\n",
                "\t\tFROM gold.fact_sales f\r\n",
                "\t\tLEFT JOIN gold.dim_products p\r\n",
                "\t\t\tON p.product_key = f.product_key\r\n",
                "\t\tGROUP BY p.product_name\r\n",
                ")t WHERE rank_products <= 5;"
            ],
            "metadata": {
                "language": "sql",
                "azdata_cell_guid": "09b45f96-4a7a-4a6c-808f-e243a210b9d1"
            },
            "outputs": [
                {
                    "output_type": "display_data",
                    "data": {
                        "text/html": "(5 rows affected)"
                    },
                    "metadata": {}
                },
                {
                    "output_type": "display_data",
                    "data": {
                        "text/html": "(5 rows affected)"
                    },
                    "metadata": {}
                },
                {
                    "output_type": "display_data",
                    "data": {
                        "text/html": "Total execution time: 00:00:23.592"
                    },
                    "metadata": {}
                },
                {
                    "output_type": "execute_result",
                    "metadata": {},
                    "execution_count": 1,
                    "data": {
                        "application/vnd.dataresource+json": {
                            "schema": {
                                "fields": [
                                    {
                                        "name": "product_name"
                                    },
                                    {
                                        "name": "total_revenue"
                                    }
                                ]
                            },
                            "data": [
                                {
                                    "product_name": "Mountain-200 Black- 46",
                                    "total_revenue": "1373454"
                                },
                                {
                                    "product_name": "Mountain-200 Black- 42",
                                    "total_revenue": "1363128"
                                },
                                {
                                    "product_name": "Mountain-200 Silver- 38",
                                    "total_revenue": "1339394"
                                },
                                {
                                    "product_name": "Mountain-200 Silver- 46",
                                    "total_revenue": "1301029"
                                },
                                {
                                    "product_name": "Mountain-200 Black- 38",
                                    "total_revenue": "1294854"
                                }
                            ]
                        },
                        "text/html": [
                            "<table>",
                            "<tr><th>product_name</th><th>total_revenue</th></tr>",
                            "<tr><td>Mountain-200 Black- 46</td><td>1373454</td></tr>",
                            "<tr><td>Mountain-200 Black- 42</td><td>1363128</td></tr>",
                            "<tr><td>Mountain-200 Silver- 38</td><td>1339394</td></tr>",
                            "<tr><td>Mountain-200 Silver- 46</td><td>1301029</td></tr>",
                            "<tr><td>Mountain-200 Black- 38</td><td>1294854</td></tr>",
                            "</table>"
                        ]
                    }
                },
                {
                    "output_type": "execute_result",
                    "metadata": {},
                    "execution_count": 1,
                    "data": {
                        "application/vnd.dataresource+json": {
                            "schema": {
                                "fields": [
                                    {
                                        "name": "product_name"
                                    },
                                    {
                                        "name": "total_revenue"
                                    },
                                    {
                                        "name": "rank_products"
                                    }
                                ]
                            },
                            "data": [
                                {
                                    "product_name": "Mountain-200 Black- 46",
                                    "total_revenue": "1373454",
                                    "rank_products": "1"
                                },
                                {
                                    "product_name": "Mountain-200 Black- 42",
                                    "total_revenue": "1363128",
                                    "rank_products": "2"
                                },
                                {
                                    "product_name": "Mountain-200 Silver- 38",
                                    "total_revenue": "1339394",
                                    "rank_products": "3"
                                },
                                {
                                    "product_name": "Mountain-200 Silver- 46",
                                    "total_revenue": "1301029",
                                    "rank_products": "4"
                                },
                                {
                                    "product_name": "Mountain-200 Black- 38",
                                    "total_revenue": "1294854",
                                    "rank_products": "5"
                                }
                            ]
                        },
                        "text/html": [
                            "<table>",
                            "<tr><th>product_name</th><th>total_revenue</th><th>rank_products</th></tr>",
                            "<tr><td>Mountain-200 Black- 46</td><td>1373454</td><td>1</td></tr>",
                            "<tr><td>Mountain-200 Black- 42</td><td>1363128</td><td>2</td></tr>",
                            "<tr><td>Mountain-200 Silver- 38</td><td>1339394</td><td>3</td></tr>",
                            "<tr><td>Mountain-200 Silver- 46</td><td>1301029</td><td>4</td></tr>",
                            "<tr><td>Mountain-200 Black- 38</td><td>1294854</td><td>5</td></tr>",
                            "</table>"
                        ]
                    }
                }
            ],
            "execution_count": 1
        },
        {
            "cell_type": "code",
            "source": [
                "-- Find the top 10 customers who have generated the highest revenue\r\n",
                "SELECT TOP 10\r\n",
                "    c.customer_key,\r\n",
                "    c.first_name,\r\n",
                "    c.last_name,\r\n",
                "    SUM(f.sales_amount) AS total_revenue\r\n",
                "FROM gold.fact_sales f\r\n",
                "LEFT JOIN gold.dim_customers c\r\n",
                "    ON c.customer_key = f.customer_key\r\n",
                "GROUP BY \r\n",
                "    c.customer_key,\r\n",
                "    c.first_name,\r\n",
                "    c.last_name\r\n",
                "ORDER BY total_revenue DESC;"
            ],
            "metadata": {
                "azdata_cell_guid": "c220c8c1-5ae3-407f-a995-49c83c1047f4",
                "language": "sql"
            },
            "outputs": [
                {
                    "output_type": "display_data",
                    "data": {
                        "text/html": "(10 rows affected)"
                    },
                    "metadata": {}
                },
                {
                    "output_type": "display_data",
                    "data": {
                        "text/html": "Total execution time: 00:02:01.890"
                    },
                    "metadata": {}
                },
                {
                    "output_type": "execute_result",
                    "metadata": {},
                    "execution_count": 2,
                    "data": {
                        "application/vnd.dataresource+json": {
                            "schema": {
                                "fields": [
                                    {
                                        "name": "customer_key"
                                    },
                                    {
                                        "name": "first_name"
                                    },
                                    {
                                        "name": "last_name"
                                    },
                                    {
                                        "name": "total_revenue"
                                    }
                                ]
                            },
                            "data": [
                                {
                                    "customer_key": "1302",
                                    "first_name": "Nichole",
                                    "last_name": "Nara",
                                    "total_revenue": "13294"
                                },
                                {
                                    "customer_key": "1133",
                                    "first_name": "Kaitlyn",
                                    "last_name": "Henderson",
                                    "total_revenue": "13294"
                                },
                                {
                                    "customer_key": "1309",
                                    "first_name": "Margaret",
                                    "last_name": "He",
                                    "total_revenue": "13268"
                                },
                                {
                                    "customer_key": "1132",
                                    "first_name": "Randall",
                                    "last_name": "Dominguez",
                                    "total_revenue": "13265"
                                },
                                {
                                    "customer_key": "1301",
                                    "first_name": "Adriana",
                                    "last_name": "Gonzalez",
                                    "total_revenue": "13242"
                                },
                                {
                                    "customer_key": "1322",
                                    "first_name": "Rosa",
                                    "last_name": "Hu",
                                    "total_revenue": "13215"
                                },
                                {
                                    "customer_key": "1125",
                                    "first_name": "Brandi",
                                    "last_name": "Gill",
                                    "total_revenue": "13195"
                                },
                                {
                                    "customer_key": "1308",
                                    "first_name": "Brad",
                                    "last_name": "She",
                                    "total_revenue": "13172"
                                },
                                {
                                    "customer_key": "1297",
                                    "first_name": "Francisco",
                                    "last_name": "Sara",
                                    "total_revenue": "13164"
                                },
                                {
                                    "customer_key": "434",
                                    "first_name": "Maurice",
                                    "last_name": "Shan",
                                    "total_revenue": "12914"
                                }
                            ]
                        },
                        "text/html": [
                            "<table>",
                            "<tr><th>customer_key</th><th>first_name</th><th>last_name</th><th>total_revenue</th></tr>",
                            "<tr><td>1302</td><td>Nichole</td><td>Nara</td><td>13294</td></tr>",
                            "<tr><td>1133</td><td>Kaitlyn</td><td>Henderson</td><td>13294</td></tr>",
                            "<tr><td>1309</td><td>Margaret</td><td>He</td><td>13268</td></tr>",
                            "<tr><td>1132</td><td>Randall</td><td>Dominguez</td><td>13265</td></tr>",
                            "<tr><td>1301</td><td>Adriana</td><td>Gonzalez</td><td>13242</td></tr>",
                            "<tr><td>1322</td><td>Rosa</td><td>Hu</td><td>13215</td></tr>",
                            "<tr><td>1125</td><td>Brandi</td><td>Gill</td><td>13195</td></tr>",
                            "<tr><td>1308</td><td>Brad</td><td>She</td><td>13172</td></tr>",
                            "<tr><td>1297</td><td>Francisco</td><td>Sara</td><td>13164</td></tr>",
                            "<tr><td>434</td><td>Maurice</td><td>Shan</td><td>12914</td></tr>",
                            "</table>"
                        ]
                    }
                }
            ],
            "execution_count": 2
        },
        {
            "cell_type": "code",
            "source": [
                "-- The 3 customers with the fewest orders placed\r\n",
                "SELECT TOP 3\r\n",
                "    c.customer_key,\r\n",
                "    c.first_name,\r\n",
                "    c.last_name,\r\n",
                "    COUNT(DISTINCT order_number) AS total_orders\r\n",
                "FROM gold.fact_sales f\r\n",
                "LEFT JOIN gold.dim_customers c\r\n",
                "    ON c.customer_key = f.customer_key\r\n",
                "GROUP BY \r\n",
                "    c.customer_key,\r\n",
                "    c.first_name,\r\n",
                "    c.last_name\r\n",
                "ORDER BY total_orders;"
            ],
            "metadata": {
                "azdata_cell_guid": "518c7bc2-373e-4aec-9149-44bf5d733ee8",
                "language": "sql"
            },
            "outputs": [
                {
                    "output_type": "display_data",
                    "data": {
                        "text/html": "(3 rows affected)"
                    },
                    "metadata": {}
                },
                {
                    "output_type": "display_data",
                    "data": {
                        "text/html": "Total execution time: 00:00:01.008"
                    },
                    "metadata": {}
                },
                {
                    "output_type": "execute_result",
                    "metadata": {},
                    "execution_count": 3,
                    "data": {
                        "application/vnd.dataresource+json": {
                            "schema": {
                                "fields": [
                                    {
                                        "name": "customer_key"
                                    },
                                    {
                                        "name": "first_name"
                                    },
                                    {
                                        "name": "last_name"
                                    },
                                    {
                                        "name": "total_orders"
                                    }
                                ]
                            },
                            "data": [
                                {
                                    "customer_key": "21",
                                    "first_name": "Jordan",
                                    "last_name": "King",
                                    "total_orders": "1"
                                },
                                {
                                    "customer_key": "41",
                                    "first_name": "Jesse",
                                    "last_name": "Murphy",
                                    "total_orders": "1"
                                },
                                {
                                    "customer_key": "37",
                                    "first_name": "Jennifer",
                                    "last_name": "Russell",
                                    "total_orders": "1"
                                }
                            ]
                        },
                        "text/html": [
                            "<table>",
                            "<tr><th>customer_key</th><th>first_name</th><th>last_name</th><th>total_orders</th></tr>",
                            "<tr><td>21</td><td>Jordan</td><td>King</td><td>1</td></tr>",
                            "<tr><td>41</td><td>Jesse</td><td>Murphy</td><td>1</td></tr>",
                            "<tr><td>37</td><td>Jennifer</td><td>Russell</td><td>1</td></tr>",
                            "</table>"
                        ]
                    }
                }
            ],
            "execution_count": 3
        }
    ]
}